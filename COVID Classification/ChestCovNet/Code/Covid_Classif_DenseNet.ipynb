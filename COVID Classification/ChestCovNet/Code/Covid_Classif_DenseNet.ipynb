{
 "cells": [
  {
   "cell_type": "markdown",
   "metadata": {},
   "source": [
    "# COVID CLASSIFICATION WITH CHEST X RAY: Adapted GoogLeNet"
   ]
  },
  {
   "cell_type": "markdown",
   "metadata": {},
   "source": [
    "### Load required modules"
   ]
  },
  {
   "cell_type": "code",
   "execution_count": 1,
   "metadata": {
    "colab": {},
    "colab_type": "code",
    "id": "Ty_YA-cLBpyr"
   },
   "outputs": [
    {
     "name": "stdout",
     "output_type": "stream",
     "text": [
      "MONAI version: 0.3.0\n",
      "Python version: 3.6.12 |Anaconda, Inc.| (default, Sep  8 2020, 23:10:56)  [GCC 7.3.0]\n",
      "OS version: Linux (5.4.0-40-generic)\n",
      "Numpy version: 1.19.1\n",
      "Pytorch version: 1.6.0\n",
      "MONAI flags: HAS_EXT = False, USE_COMPILED = False\n",
      "\n",
      "Optional dependencies:\n",
      "Pytorch Ignite version: NOT INSTALLED or UNKNOWN VERSION.\n",
      "Nibabel version: NOT INSTALLED or UNKNOWN VERSION.\n",
      "scikit-image version: 0.16.2\n",
      "Pillow version: 7.2.0\n",
      "Tensorboard version: 2.2.1\n",
      "gdown version: NOT INSTALLED or UNKNOWN VERSION.\n",
      "TorchVision version: 0.7.0\n",
      "ITK version: NOT INSTALLED or UNKNOWN VERSION.\n",
      "tqdm version: 4.48.2\n",
      "\n",
      "For details about installing the optional dependencies, please visit:\n",
      "    https://docs.monai.io/en/latest/installation.html#installing-the-recommended-dependencies\n",
      "\n"
     ]
    }
   ],
   "source": [
    "%matplotlib inline\n",
    "import os\n",
    "import numpy as np\n",
    "import matplotlib.pyplot as plt\n",
    "from PIL import Image\n",
    "\n",
    "import torch\n",
    "import torchvision.models as models\n",
    "import torch.nn as nn\n",
    "from torch.utils.data import Dataset, DataLoader\n",
    "\n",
    "from monai.config import print_config\n",
    "from monai.transforms import \\\n",
    "    Compose, LoadPNG, AddChannel, ScaleIntensity, ToTensor, RandRotate, RandFlip, RandZoom, NormalizeIntensity, RepeatChannel\n",
    "from monai.metrics import compute_roc_auc\n",
    "\n",
    "import pandas as pd\n",
    "import matplotlib.pyplot as plt\n",
    "\n",
    "import datetime\n",
    "import random\n",
    "\n",
    "import sklearn\n",
    "from sklearn.metrics import roc_auc_score\n",
    "\n",
    "pd.set_option('display.max_colwidth', 250)\n",
    "pd.set_option('display.max_columns', None)\n",
    "\n",
    "np.random.seed(0)\n",
    "print_config()\n"
   ]
  },
  {
   "cell_type": "markdown",
   "metadata": {
    "colab_type": "text",
    "id": "qHhD_snaB70p"
   },
   "source": [
    "### Set variables, load data and prepare it for work"
   ]
  },
  {
   "cell_type": "code",
   "execution_count": 2,
   "metadata": {
    "colab": {},
    "colab_type": "code",
    "id": "ZaHFhidyCBJa"
   },
   "outputs": [],
   "source": [
    "working_directory = '/mnt/datasets/fastcovnet/'\n",
    "columnToPredict = 'Case_type'\n",
    "resolution = '224'\n",
    "path_saved_model = os.path.expanduser(\"~\")+'/best_metric_'+columnToPredict+'_'+resolution+'.pth'\n"
   ]
  },
  {
   "cell_type": "code",
   "execution_count": 3,
   "metadata": {},
   "outputs": [],
   "source": [
    "# Read data\n",
    "data = pd.read_csv(os.path.join(working_directory,'cohort_covid_20201115_nodups.csv'),\"|\")\n",
    "\n",
    "# Double check target variable\n",
    "data = data[data[columnToPredict].isna()==False]\n",
    "\n",
    "# Convert columnToPredict to string\n",
    "data[columnToPredict] = data[columnToPredict].astype(str)"
   ]
  },
  {
   "cell_type": "code",
   "execution_count": 4,
   "metadata": {},
   "outputs": [
    {
     "data": {
      "text/plain": [
       "Control    22312\n",
       "Case        6331\n",
       "Name: Case_type, dtype: int64"
      ]
     },
     "execution_count": 4,
     "metadata": {},
     "output_type": "execute_result"
    }
   ],
   "source": [
    "# Value counts of classes of target var\n",
    "class_names = sorted(data[columnToPredict].unique())\n",
    "num_class = len(class_names)\n",
    "data[columnToPredict].value_counts()"
   ]
  },
  {
   "cell_type": "code",
   "execution_count": null,
   "metadata": {},
   "outputs": [],
   "source": [
    "################################################"
   ]
  },
  {
   "cell_type": "code",
   "execution_count": 5,
   "metadata": {},
   "outputs": [],
   "source": [
    "# Create list with directory of images and their labels\n",
    "data[columnToPredict] = pd.Categorical(data[columnToPredict])\n",
    "data[\"to_predict\"] = data[columnToPredict].cat.codes\n",
    "dict(enumerate(data[columnToPredict].cat.categories))\n",
    "\n",
    "image_file_list = data.path_jpg.tolist()\n",
    "image_label_list = data.to_predict.tolist()\n",
    "\n",
    "num_total = len(image_label_list) "
   ]
  },
  {
   "cell_type": "code",
   "execution_count": 6,
   "metadata": {},
   "outputs": [],
   "source": [
    "# Balance classes - force class balance, same number of cases and controls\n",
    "#num_cases = data[data[columnToPredict]=='Case'].shape[0]\n",
    "#data_casos = data[data[columnToPredict]=='Case']\n",
    "#data_controls = data[data[columnToPredict]=='Control'].sample(num_cases)\n",
    "#data = pd.concat([data_casos, data_controls])\n",
    "#num_total = num_cases*2\n",
    "#data[columnToPredict].value_counts()\n"
   ]
  },
  {
   "cell_type": "code",
   "execution_count": 7,
   "metadata": {},
   "outputs": [],
   "source": [
    "# Select from image_file_list and label_file_list the images that are actually in data after balancing\n",
    "mapping = map(image_file_list.__getitem__, data.index.to_numpy())\n",
    "image_file_list_2 = list(mapping)\n",
    "mapping = map(image_label_list.__getitem__, data.index.to_numpy())\n",
    "image_label_list_2 = list(mapping)"
   ]
  },
  {
   "cell_type": "markdown",
   "metadata": {
    "colab_type": "text",
    "id": "9KuPf7t-CFEV"
   },
   "source": [
    "### Visualise some randomly picked examples from the dataset - hidden due to privacy reasons"
   ]
  },
  {
   "cell_type": "code",
   "execution_count": 1,
   "metadata": {},
   "outputs": [],
   "source": [
    "#fig, ax = plt.subplots(3,3, figsize=(20, 20))\n",
    "#for i,k in enumerate(np.random.randint(num_total, size=9)):\n",
    "#    im = Image.open(image_file_list[k])\n",
    "#    arr = np.array(im)\n",
    "#    ax[i//3][i%3].imshow(arr, cmap='gray', vmin=0, vmax=255)\n",
    "#    ax[i//3][i%3].set_xlabel(str(k)+' - '+class_names[image_label_list[k]], fontsize=15)\n"
   ]
  },
  {
   "cell_type": "markdown",
   "metadata": {
    "colab_type": "text",
    "id": "tkguefb6CTw5"
   },
   "source": [
    "### Prepare training, validation and test data lists\n",
    "Randomly select 10% of the dataset as validation and 10% as test."
   ]
  },
  {
   "cell_type": "code",
   "execution_count": 9,
   "metadata": {
    "colab": {},
    "colab_type": "code",
    "id": "WuryrHlpCYfK"
   },
   "outputs": [
    {
     "name": "stdout",
     "output_type": "stream",
     "text": [
      "Training count = 22947 Validation count = 2843 Test count = 2853\n"
     ]
    }
   ],
   "source": [
    "# Settings\n",
    "valid_frac, test_frac = 0.1, 0.1\n",
    "trainX, trainY = [], []\n",
    "valX, valY = [], []\n",
    "testX, testY = [], []\n",
    "\n",
    "# Keep record of which split which image goes to (test, train, val). Later append to \"data\" csv\n",
    "split = []\n",
    "\n",
    "# Loop and select\n",
    "for i in range(num_total):\n",
    "    rann = np.random.random()\n",
    "    if rann < valid_frac:\n",
    "        valX.append(image_file_list_2[i])\n",
    "        valY.append(image_label_list_2[i])\n",
    "        split.append('val')\n",
    "    elif rann < test_frac + valid_frac:\n",
    "        testX.append(image_file_list_2[i])\n",
    "        testY.append(image_label_list_2[i])\n",
    "        split.append('test')\n",
    "    else:\n",
    "        trainX.append(image_file_list_2[i])\n",
    "        trainY.append(image_label_list_2[i])\n",
    "        split.append('train')\n",
    "\n",
    "# Summary\n",
    "print(\"Training count =\",len(trainX),\"Validation count =\", len(valX), \"Test count =\",len(testX))"
   ]
  },
  {
   "cell_type": "code",
   "execution_count": 10,
   "metadata": {},
   "outputs": [],
   "source": [
    "# Add the info of which split belongs to each datapoint to the table\n",
    "path_split = pd.DataFrame({\n",
    "    'path_jpg': image_file_list_2,\n",
    "    'Split': split\n",
    "})\n",
    "data = pd.merge(data, path_split, on='path_jpg', how='left')"
   ]
  },
  {
   "cell_type": "markdown",
   "metadata": {},
   "source": [
    "Check balance across splits"
   ]
  },
  {
   "cell_type": "code",
   "execution_count": 11,
   "metadata": {},
   "outputs": [
    {
     "data": {
      "text/plain": [
       "Control    17848\n",
       "Case        5099\n",
       "Name: Case_type, dtype: int64"
      ]
     },
     "execution_count": 11,
     "metadata": {},
     "output_type": "execute_result"
    }
   ],
   "source": [
    "data[data['Split']=='train']['Case_type'].value_counts()"
   ]
  },
  {
   "cell_type": "code",
   "execution_count": 12,
   "metadata": {},
   "outputs": [
    {
     "data": {
      "text/plain": [
       "Control    2243\n",
       "Case        610\n",
       "Name: Case_type, dtype: int64"
      ]
     },
     "execution_count": 12,
     "metadata": {},
     "output_type": "execute_result"
    }
   ],
   "source": [
    "data[data['Split']=='test']['Case_type'].value_counts()"
   ]
  },
  {
   "cell_type": "code",
   "execution_count": 13,
   "metadata": {},
   "outputs": [
    {
     "data": {
      "text/plain": [
       "Control    2221\n",
       "Case        622\n",
       "Name: Case_type, dtype: int64"
      ]
     },
     "execution_count": 13,
     "metadata": {},
     "output_type": "execute_result"
    }
   ],
   "source": [
    "data[data['Split']=='val']['Case_type'].value_counts()"
   ]
  },
  {
   "cell_type": "markdown",
   "metadata": {
    "colab_type": "text",
    "id": "IJRqm8MNCbi4"
   },
   "source": [
    "### Define transforms, Dataset and Dataloader to pre-process data"
   ]
  },
  {
   "cell_type": "code",
   "execution_count": 14,
   "metadata": {
    "colab": {},
    "colab_type": "code",
    "id": "PMsUgaYNCfrw"
   },
   "outputs": [],
   "source": [
    "\n",
    "train_transforms = Compose([\n",
    "    LoadPNG(image_only=True),\n",
    "    AddChannel(),\n",
    "    RepeatChannel(3),\n",
    "    ScaleIntensity(),\n",
    "    #NormalizeIntensity(subtrahend=imagenet_mean, divisor=imagenet_std),\n",
    "    RandRotate(range_x=90, prob=0.5, keep_size=True),\n",
    "    RandFlip(spatial_axis=0, prob=0.5),\n",
    "    RandZoom(min_zoom=0.9, max_zoom=1.1, prob=0.5, keep_size=True),\n",
    "    ToTensor()\n",
    "])\n",
    "\n",
    "val_transforms = Compose([\n",
    "    LoadPNG(image_only=True),\n",
    "    AddChannel(),\n",
    "    ScaleIntensity(),\n",
    "    RepeatChannel(3),\n",
    "    ToTensor()\n",
    "])"
   ]
  },
  {
   "cell_type": "code",
   "execution_count": 15,
   "metadata": {
    "colab": {},
    "colab_type": "code",
    "id": "JJgCYleyCpTT"
   },
   "outputs": [],
   "source": [
    "# Define out Dataset class and create the dataloaders\n",
    "class ChestCovNetDataset(Dataset):\n",
    "\n",
    "    def __init__(self, image_files, labels, transforms):\n",
    "        self.image_files = image_files\n",
    "        self.labels = labels\n",
    "        self.transforms = transforms\n",
    "\n",
    "    def __len__(self):\n",
    "        return len(self.image_files)\n",
    "\n",
    "    def __getitem__(self, index):\n",
    "        return self.transforms(self.image_files[index]), self.labels[index]\n",
    "\n",
    "train_ds = ChestCovNetDataset(trainX, trainY, train_transforms)\n",
    "train_loader = DataLoader(train_ds, batch_size=20, shuffle=True, num_workers=10)\n",
    "\n",
    "val_ds = ChestCovNetDataset(valX, valY, val_transforms)\n",
    "val_loader = DataLoader(val_ds, batch_size=20, num_workers=10)\n",
    "\n",
    "test_ds = ChestCovNetDataset(testX, testY, val_transforms)\n",
    "test_loader = DataLoader(test_ds, batch_size=20, num_workers=10)"
   ]
  },
  {
   "cell_type": "markdown",
   "metadata": {},
   "source": [
    "# SPECIFIC PART: DENSENET"
   ]
  },
  {
   "cell_type": "markdown",
   "metadata": {
    "colab_type": "text",
    "id": "hmwtEGBbCtuL"
   },
   "source": [
    "### Define network, optimizer and loss"
   ]
  },
  {
   "cell_type": "code",
   "execution_count": 16,
   "metadata": {
    "colab": {},
    "colab_type": "code",
    "id": "3efM0bwsC1wS"
   },
   "outputs": [],
   "source": [
    "device = torch.device(\"cuda:0\")\n",
    "model = models.densenet161(pretrained=True)\n",
    "\n",
    "### Modify model so that input is 1 channel and output 2 classes\n",
    "#model.features.conv0  = nn.Conv2d(1, 96, kernel_size=(7, 7), stride=(2, 2), padding=(3, 3), bias=False)\n",
    "#model.classifier = nn.Linear(in_features = 2208, out_features = num_class, bias = True)\n",
    "model.classifier = nn.Sequential(\n",
    "    nn.Linear(in_features = 2208, out_features = 1, bias = True),\n",
    "    nn.Sigmoid()\n",
    "    )\n",
    "model = model.to(device)\n",
    "\n",
    "## Model name and path to save model\n",
    "model_name = model.__class__.__name__\n",
    "path_saved_model = os.path.expanduser(\"~\")+'/best_metric_'+model_name+'_'+resolution+'.pth'\n",
    "\n",
    "## Optimizer and loss\n",
    "#loss_function = torch.nn.CrossEntropyLoss()\n",
    "loss_function = torch.nn.BCELoss()\n",
    "optimizer = torch.optim.Adam(model.parameters(), 1e-5, weight_decay=0.0001)\n",
    "#optimizer = torch.optim.SGD(model.parameters(), lr=0.001, momentum=0.9, weight_decay=0.0001)\n",
    "\n",
    "epoch_num = 30\n",
    "val_interval = 1 # How often will we validate. 1 means it validates in every epoch"
   ]
  },
  {
   "cell_type": "code",
   "execution_count": null,
   "metadata": {},
   "outputs": [],
   "source": [
    "#model"
   ]
  },
  {
   "cell_type": "markdown",
   "metadata": {
    "colab_type": "text",
    "id": "6XpGqz_oDkXP"
   },
   "source": [
    "### Model training"
   ]
  },
  {
   "cell_type": "code",
   "execution_count": 17,
   "metadata": {
    "colab": {
     "base_uri": "https://localhost:8080/",
     "height": 1000
    },
    "colab_type": "code",
    "id": "MpKhLo3YDpXw",
    "outputId": "4ab8085c-2f1b-4ce0-b11e-070c09763a7a"
   },
   "outputs": [
    {
     "name": "stdout",
     "output_type": "stream",
     "text": [
      "----------\n",
      "epoch 1/30\n",
      "epoch 1 average loss: 0.6006\n",
      "tensor(0.6811, device='cuda:0')\n",
      "saved new best metric model\n",
      "current epoch: 1 current AUC: 0.6753 current accuracy: 0.5403 best AUC: 0.6753 at epoch: 1\n",
      "----------\n",
      "epoch 2/30\n",
      "epoch 2 average loss: 0.5285\n",
      "tensor(0.6742, device='cuda:0')\n",
      "saved new best metric model\n",
      "current epoch: 2 current AUC: 0.7351 current accuracy: 0.5479 best AUC: 0.7351 at epoch: 2\n",
      "----------\n",
      "epoch 3/30\n",
      "epoch 3 average loss: 0.4937\n",
      "tensor(0.6627, device='cuda:0')\n",
      "saved new best metric model\n",
      "current epoch: 3 current AUC: 0.7461 current accuracy: 0.5784 best AUC: 0.7461 at epoch: 3\n",
      "----------\n",
      "epoch 4/30\n",
      "epoch 4 average loss: 0.4736\n",
      "tensor(0.6677, device='cuda:0')\n",
      "current epoch: 4 current AUC: 0.7313 current accuracy: 0.5974 best AUC: 0.7461 at epoch: 3\n",
      "----------\n",
      "epoch 5/30\n",
      "epoch 5 average loss: 0.4545\n",
      "tensor(0.7261, device='cuda:0')\n",
      "current epoch: 5 current AUC: 0.6839 current accuracy: 0.5388 best AUC: 0.7461 at epoch: 3\n",
      "----------\n",
      "epoch 6/30\n",
      "epoch 6 average loss: 0.4382\n",
      "tensor(0.7372, device='cuda:0')\n",
      "current epoch: 6 current AUC: 0.7056 current accuracy: 0.5350 best AUC: 0.7461 at epoch: 3\n",
      "----------\n",
      "epoch 7/30\n",
      "epoch 7 average loss: 0.4232\n",
      "tensor(0.7488, device='cuda:0')\n",
      "current epoch: 7 current AUC: 0.6756 current accuracy: 0.5335 best AUC: 0.7461 at epoch: 3\n",
      "----------\n",
      "epoch 8/30\n"
     ]
    },
    {
     "ename": "KeyboardInterrupt",
     "evalue": "",
     "output_type": "error",
     "traceback": [
      "\u001b[0;31m---------------------------------------------------------------------------\u001b[0m",
      "\u001b[0;31mKeyboardInterrupt\u001b[0m                         Traceback (most recent call last)",
      "\u001b[0;32m<ipython-input-17-bab6ab185808>\u001b[0m in \u001b[0;36m<module>\u001b[0;34m\u001b[0m\n\u001b[1;32m     30\u001b[0m         \u001b[0mloss\u001b[0m \u001b[0;34m=\u001b[0m \u001b[0mloss_function\u001b[0m\u001b[0;34m(\u001b[0m\u001b[0moutputs\u001b[0m\u001b[0;34m,\u001b[0m \u001b[0mlabels\u001b[0m\u001b[0;34m)\u001b[0m\u001b[0;34m\u001b[0m\u001b[0;34m\u001b[0m\u001b[0m\n\u001b[1;32m     31\u001b[0m         \u001b[0mloss\u001b[0m\u001b[0;34m.\u001b[0m\u001b[0mbackward\u001b[0m\u001b[0;34m(\u001b[0m\u001b[0;34m)\u001b[0m\u001b[0;34m\u001b[0m\u001b[0;34m\u001b[0m\u001b[0m\n\u001b[0;32m---> 32\u001b[0;31m         \u001b[0moptimizer\u001b[0m\u001b[0;34m.\u001b[0m\u001b[0mstep\u001b[0m\u001b[0;34m(\u001b[0m\u001b[0;34m)\u001b[0m\u001b[0;34m\u001b[0m\u001b[0;34m\u001b[0m\u001b[0m\n\u001b[0m\u001b[1;32m     33\u001b[0m         \u001b[0mepoch_loss\u001b[0m \u001b[0;34m+=\u001b[0m \u001b[0mloss\u001b[0m\u001b[0;34m.\u001b[0m\u001b[0mitem\u001b[0m\u001b[0;34m(\u001b[0m\u001b[0;34m)\u001b[0m\u001b[0;34m\u001b[0m\u001b[0;34m\u001b[0m\u001b[0m\n\u001b[1;32m     34\u001b[0m         \u001b[0;31m#print(f\"{step}/{len(train_ds) // train_loader.batch_size}, train_loss: {loss.item():.4f}\")\u001b[0m\u001b[0;34m\u001b[0m\u001b[0;34m\u001b[0m\u001b[0;34m\u001b[0m\u001b[0m\n",
      "\u001b[0;32m~/.conda/envs/python3.6/lib/python3.6/site-packages/torch/autograd/grad_mode.py\u001b[0m in \u001b[0;36mdecorate_context\u001b[0;34m(*args, **kwargs)\u001b[0m\n\u001b[1;32m     13\u001b[0m         \u001b[0;32mdef\u001b[0m \u001b[0mdecorate_context\u001b[0m\u001b[0;34m(\u001b[0m\u001b[0;34m*\u001b[0m\u001b[0margs\u001b[0m\u001b[0;34m,\u001b[0m \u001b[0;34m**\u001b[0m\u001b[0mkwargs\u001b[0m\u001b[0;34m)\u001b[0m\u001b[0;34m:\u001b[0m\u001b[0;34m\u001b[0m\u001b[0;34m\u001b[0m\u001b[0m\n\u001b[1;32m     14\u001b[0m             \u001b[0;32mwith\u001b[0m \u001b[0mself\u001b[0m\u001b[0;34m:\u001b[0m\u001b[0;34m\u001b[0m\u001b[0;34m\u001b[0m\u001b[0m\n\u001b[0;32m---> 15\u001b[0;31m                 \u001b[0;32mreturn\u001b[0m \u001b[0mfunc\u001b[0m\u001b[0;34m(\u001b[0m\u001b[0;34m*\u001b[0m\u001b[0margs\u001b[0m\u001b[0;34m,\u001b[0m \u001b[0;34m**\u001b[0m\u001b[0mkwargs\u001b[0m\u001b[0;34m)\u001b[0m\u001b[0;34m\u001b[0m\u001b[0;34m\u001b[0m\u001b[0m\n\u001b[0m\u001b[1;32m     16\u001b[0m         \u001b[0;32mreturn\u001b[0m \u001b[0mdecorate_context\u001b[0m\u001b[0;34m\u001b[0m\u001b[0;34m\u001b[0m\u001b[0m\n\u001b[1;32m     17\u001b[0m \u001b[0;34m\u001b[0m\u001b[0m\n",
      "\u001b[0;32m~/.conda/envs/python3.6/lib/python3.6/site-packages/torch/optim/adam.py\u001b[0m in \u001b[0;36mstep\u001b[0;34m(self, closure)\u001b[0m\n\u001b[1;32m     98\u001b[0m                 \u001b[0;31m# Decay the first and second moment running average coefficient\u001b[0m\u001b[0;34m\u001b[0m\u001b[0;34m\u001b[0m\u001b[0;34m\u001b[0m\u001b[0m\n\u001b[1;32m     99\u001b[0m                 \u001b[0mexp_avg\u001b[0m\u001b[0;34m.\u001b[0m\u001b[0mmul_\u001b[0m\u001b[0;34m(\u001b[0m\u001b[0mbeta1\u001b[0m\u001b[0;34m)\u001b[0m\u001b[0;34m.\u001b[0m\u001b[0madd_\u001b[0m\u001b[0;34m(\u001b[0m\u001b[0mgrad\u001b[0m\u001b[0;34m,\u001b[0m \u001b[0malpha\u001b[0m\u001b[0;34m=\u001b[0m\u001b[0;36m1\u001b[0m \u001b[0;34m-\u001b[0m \u001b[0mbeta1\u001b[0m\u001b[0;34m)\u001b[0m\u001b[0;34m\u001b[0m\u001b[0;34m\u001b[0m\u001b[0m\n\u001b[0;32m--> 100\u001b[0;31m                 \u001b[0mexp_avg_sq\u001b[0m\u001b[0;34m.\u001b[0m\u001b[0mmul_\u001b[0m\u001b[0;34m(\u001b[0m\u001b[0mbeta2\u001b[0m\u001b[0;34m)\u001b[0m\u001b[0;34m.\u001b[0m\u001b[0maddcmul_\u001b[0m\u001b[0;34m(\u001b[0m\u001b[0mgrad\u001b[0m\u001b[0;34m,\u001b[0m \u001b[0mgrad\u001b[0m\u001b[0;34m,\u001b[0m \u001b[0mvalue\u001b[0m\u001b[0;34m=\u001b[0m\u001b[0;36m1\u001b[0m \u001b[0;34m-\u001b[0m \u001b[0mbeta2\u001b[0m\u001b[0;34m)\u001b[0m\u001b[0;34m\u001b[0m\u001b[0;34m\u001b[0m\u001b[0m\n\u001b[0m\u001b[1;32m    101\u001b[0m                 \u001b[0;32mif\u001b[0m \u001b[0mamsgrad\u001b[0m\u001b[0;34m:\u001b[0m\u001b[0;34m\u001b[0m\u001b[0;34m\u001b[0m\u001b[0m\n\u001b[1;32m    102\u001b[0m                     \u001b[0;31m# Maintains the maximum of all 2nd moment running avg. till now\u001b[0m\u001b[0;34m\u001b[0m\u001b[0;34m\u001b[0m\u001b[0;34m\u001b[0m\u001b[0m\n",
      "\u001b[0;31mKeyboardInterrupt\u001b[0m: "
     ]
    }
   ],
   "source": [
    "# Set check for saving the best model during training\n",
    "if 'best_metric' not in vars():\n",
    "    best_metric = -1\n",
    "    best_metric_epoch = -1\n",
    "    epoch_loss_values = list()\n",
    "    val_loss_values = list()\n",
    "    metric_values = list()\n",
    "    checkpoint = {} # for saving model and other training info\n",
    "\n",
    "# Not used\n",
    "early_stop = False\n",
    "patience_tol = 1e-2\n",
    "\n",
    "# Measure time\n",
    "start = datetime.datetime.now()\n",
    "\n",
    "# Train\n",
    "for epoch in range(epoch_num):\n",
    "    print('-' * 10)\n",
    "    print(f\"epoch {epoch + 1}/{epoch_num}\")\n",
    "    model.train()\n",
    "    epoch_loss = 0\n",
    "    step = 0\n",
    "    for batch_data in train_loader:\n",
    "        step += 1\n",
    "        inputs, labels = batch_data[0].to(device), batch_data[1].float().to(device) #float()\n",
    "        optimizer.zero_grad()\n",
    "        outputs = model(inputs)\n",
    "        outputs = outputs.view(-1)\n",
    "        loss = loss_function(outputs, labels)\n",
    "        loss.backward()\n",
    "        optimizer.step()\n",
    "        epoch_loss += loss.item()\n",
    "        #print(f\"{step}/{len(train_ds) // train_loader.batch_size}, train_loss: {loss.item():.4f}\")\n",
    "        epoch_len = len(train_ds) // train_loader.batch_size\n",
    "    epoch_loss /= step # average loss\n",
    "    epoch_loss_values.append(epoch_loss) # save loss\n",
    "    print(f\"epoch {epoch + 1} average loss: {epoch_loss:.4f}\")\n",
    "\n",
    "    # Evaluation\n",
    "    if (epoch + 1) % val_interval == 0:\n",
    "        model.eval()\n",
    "        with torch.no_grad():\n",
    "            y_pred = torch.tensor([], dtype=torch.float32, device=device)\n",
    "            y = torch.tensor([], dtype=torch.long, device=device)\n",
    "            \n",
    "            for val_data in val_loader:\n",
    "                val_images, val_labels = val_data[0].to(device), val_data[1].float().to(device)\n",
    "                y_pred = torch.cat([y_pred, model(val_images).view(-1)], dim=0)\n",
    "                y = torch.cat([y, val_labels], dim=0)\n",
    "                \n",
    "            auc_metric = roc_auc_score(y.cpu(), y_pred.cpu()) # compute auc\n",
    "            metric_values.append(auc_metric) # save auc\n",
    "            \n",
    "            score = y_pred>0.5\n",
    "            acc_value = torch.eq(score, y) # compute accuracy\n",
    "            acc_metric = acc_value.sum().item() / len(acc_value) # average accuracy\n",
    "            \n",
    "            valid_loss = loss_function(y_pred, y) # compute loss\n",
    "            print(valid_loss)\n",
    "            val_loss_values.append(valid_loss)\n",
    "            \n",
    "            if auc_metric > best_metric:\n",
    "                best_metric = auc_metric\n",
    "                best_metric_epoch = epoch + 1\n",
    "                checkpoint['model'] = model.state_dict()\n",
    "                print('saved new best metric model')\n",
    "            print(f\"current epoch: {epoch + 1} current AUC: {auc_metric:.4f}\"\n",
    "                  f\" current accuracy: {acc_metric:.4f} best AUC: {best_metric:.4f}\"\n",
    "                  f\" at epoch: {best_metric_epoch}\")\n",
    "            \n",
    "            #if epoch>4:\n",
    "            #    if val_loss_values[epoch]-val_loss_values[epoch-4] < patience_tol:\n",
    "            #        best_metric = auc_metric\n",
    "            #        best_metric_epoch = epoch + 1\n",
    "            #        checkpoint['model'] = model.state_dict()\n",
    "            #        print('saved new best metric model')\n",
    "            #        print(f\"train completed, early stop, best_metric: {best_metric:.4f} at epoch: {best_metric_epoch}\")\n",
    "            #        early_stop = True\n",
    "            #        break\n",
    "                    \n",
    "                    \n",
    "print(f\"train completed, best_metric: {best_metric:.4f} at epoch: {best_metric_epoch}\")\n",
    "\n",
    "time = datetime.datetime.now() - start"
   ]
  },
  {
   "cell_type": "markdown",
   "metadata": {},
   "source": [
    "## Save the model\n"
   ]
  },
  {
   "cell_type": "code",
   "execution_count": null,
   "metadata": {},
   "outputs": [],
   "source": [
    "# Save model and current status\n",
    "checkpoint['optimizer'] = optimizer.state_dict()\n",
    "checkpoint['epoch_loss_values'] = epoch_loss_values\n",
    "checkpoint['metric_values'] = metric_values\n",
    "\n",
    "torch.save(checkpoint, path_saved_model)"
   ]
  },
  {
   "cell_type": "markdown",
   "metadata": {},
   "source": [
    "## Load the model"
   ]
  },
  {
   "cell_type": "code",
   "execution_count": null,
   "metadata": {},
   "outputs": [],
   "source": [
    "# Load the best model and our current training state\n",
    "checkpoint = torch.load(path_saved_model)\n",
    "\n",
    "model.load_state_dict(checkpoint[\"model\"])\n",
    "optimizer.load_state_dict(checkpoint[\"optimizer\"])\n",
    "\n",
    "epoch_loss_values = checkpoint['epoch_loss_values']\n",
    "metric_values = checkpoint['metric_values']"
   ]
  },
  {
   "cell_type": "markdown",
   "metadata": {
    "colab_type": "text",
    "id": "kBDNC9--DtI8"
   },
   "source": [
    "## Plot the loss and metric"
   ]
  },
  {
   "cell_type": "code",
   "execution_count": 18,
   "metadata": {
    "colab": {
     "base_uri": "https://localhost:8080/",
     "height": 404
    },
    "colab_type": "code",
    "id": "7P1BlRfsDuz4",
    "outputId": "024870ac-50d1-4626-870a-1f329fbaa7c5"
   },
   "outputs": [
    {
     "data": {
      "image/png": "[encoded data removed]",
      "text/plain": [
       "<Figure size 864x432 with 2 Axes>"
      ]
     },
     "metadata": {
      "needs_background": "light"
     },
     "output_type": "display_data"
    }
   ],
   "source": [
    "plt.figure('train', (12, 6))\n",
    "plt.subplot(1, 2, 1)\n",
    "plt.title(\"Epoch Average Loss\")\n",
    "x = [i + 1 for i in range(len(epoch_loss_values))]\n",
    "y = epoch_loss_values\n",
    "plt.plot(x, y)\n",
    "x = [i + 1 for i in range(len(val_loss_values))]\n",
    "y = val_loss_values\n",
    "plt.xlabel('epoch')\n",
    "plt.plot(x, y)\n",
    "plt.legend(['Train', 'Val'])\n",
    "\n",
    "\n",
    "plt.subplot(1, 2, 2)\n",
    "plt.title(\"Validation: Area under the ROC curve\")\n",
    "x = [val_interval * (i + 1) for i in range(len(metric_values))]\n",
    "y = metric_values\n",
    "plt.xlabel('epoch')\n",
    "plt.plot(x, y)\n",
    "plt.savefig(\"/home/bvelasco/Results/DenseNet/Exp3_normalizeimagenet.jpg\")\n",
    "plt.show()"
   ]
  },
  {
   "cell_type": "markdown",
   "metadata": {
    "colab_type": "text",
    "id": "Hrx_mtTODyOe"
   },
   "source": [
    "## Evaluate the model on test dataset"
   ]
  },
  {
   "cell_type": "code",
   "execution_count": 20,
   "metadata": {
    "colab": {},
    "colab_type": "code",
    "id": "uHAA3LUxD2b6"
   },
   "outputs": [],
   "source": [
    "model.eval()\n",
    "y_true = list()\n",
    "y_pred = list()\n",
    "with torch.no_grad():\n",
    "    for test_data in test_loader:\n",
    "        test_images, test_labels = test_data[0].to(device), test_data[1].to(device)\n",
    "        pred = model(test_images)\n",
    "        for i in range(len(pred)):\n",
    "            y_true.append(test_labels[i].item())\n",
    "            if pred[i]>=0.5:\n",
    "                y_pred.append(1)\n",
    "            else:\n",
    "                y_pred.append(0)\n"
   ]
  },
  {
   "cell_type": "code",
   "execution_count": 21,
   "metadata": {},
   "outputs": [],
   "source": [
    "# Append predicted values in test set to data table\n",
    "predicted_result = pd.DataFrame(\n",
    "    {'path_jpg': testX,\n",
    "     'true': y_true,\n",
    "     'predicted': y_pred\n",
    "    })\n",
    "data = pd.merge(data, predicted_result, on='path_jpg', how='left')"
   ]
  },
  {
   "cell_type": "code",
   "execution_count": 21,
   "metadata": {
    "colab": {
     "base_uri": "https://localhost:8080/",
     "height": 238
    },
    "colab_type": "code",
    "id": "zOy8uzlwD8se",
    "outputId": "81393b51-45f0-4cb8-c05c-4f4b5e694be6"
   },
   "outputs": [
    {
     "name": "stdout",
     "output_type": "stream",
     "text": [
      "              precision    recall  f1-score   support\n",
      "\n",
      "        Case     0.6905    0.0469    0.0879       618\n",
      "     Control     0.5148    0.9796    0.6749       638\n",
      "\n",
      "    accuracy                         0.5207      1256\n",
      "   macro avg     0.6027    0.5133    0.3814      1256\n",
      "weighted avg     0.6013    0.5207    0.3861      1256\n",
      "\n"
     ]
    }
   ],
   "source": [
    "# Compute metrics\n",
    "from sklearn.metrics import classification_report\n",
    "print(classification_report(y_true, y_pred, target_names=class_names, digits=4))"
   ]
  },
  {
   "cell_type": "code",
   "execution_count": 22,
   "metadata": {},
   "outputs": [],
   "source": [
    "# Save experiment metrics and info\n",
    "with open('/home/bvelasco/Results/DenseNet/result_log_Exp3_normalizeimagenet.txt', 'a') as f:\n",
    "    f.write(\"#############################################################################\\n\")\n",
    "    f.write(f'Model: {model_name} \\n')#\n",
    "    f.write(f'Training epochs: {epoch} \\n')\n",
    "    f.write(f'Batch size: {40} \\n')\n",
    "    #f.write(f'Training time: {time} \\n')\n",
    "    f.write(f'Results: \\n')\n",
    "    f.write(f'{classification_report(y_true, y_pred, target_names=class_names, digits=4)} \\n')\n",
    "    "
   ]
  },
  {
   "cell_type": "markdown",
   "metadata": {},
   "source": [
    "### Check distribution of errors per age group\n",
    "Check the distribution of the percentage of wrongly classified datapoints per age group, to detect a potential bias of the network."
   ]
  },
  {
   "cell_type": "code",
   "execution_count": 25,
   "metadata": {},
   "outputs": [
    {
     "data": {
      "image/png": "[encoded data removed]",
      "text/plain": [
       "<Figure size 432x288 with 1 Axes>"
      ]
     },
     "metadata": {
      "needs_background": "light"
     },
     "output_type": "display_data"
    }
   ],
   "source": [
    "bins=[x for x in range(0,120,5)] # age groups\n",
    "# Errors per age group\n",
    "errors_perage = plt.hist(data[(data['predicted']!=data['true']) & (data['Split']=='test')]['EDAT_PROVA_DX'], bins)"
   ]
  },
  {
   "cell_type": "code",
   "execution_count": 26,
   "metadata": {},
   "outputs": [
    {
     "data": {
      "image/png": "[encoded data removed]",
      "text/plain": [
       "<Figure size 432x288 with 1 Axes>"
      ]
     },
     "metadata": {
      "needs_background": "light"
     },
     "output_type": "display_data"
    }
   ],
   "source": [
    "# Datapoints per age group\n",
    "cases_perage = plt.hist(data[(data['Split']=='test')]['EDAT_PROVA_DX'], bins)"
   ]
  },
  {
   "cell_type": "code",
   "execution_count": 27,
   "metadata": {},
   "outputs": [
    {
     "name": "stderr",
     "output_type": "stream",
     "text": [
      "/home/bvelasco/.conda/envs/python3.6/lib/python3.6/site-packages/ipykernel_launcher.py:1: RuntimeWarning: invalid value encountered in true_divide\n",
      "  \"\"\"Entry point for launching an IPython kernel.\n"
     ]
    }
   ],
   "source": [
    "# Percentage of errors per age group\n",
    "error_percent_perage = np.divide(errors_perage[0],cases_perage[0])*100"
   ]
  },
  {
   "cell_type": "code",
   "execution_count": 28,
   "metadata": {},
   "outputs": [],
   "source": [
    "error_percent_perage = np.nan_to_num(error_percent_perage)"
   ]
  },
  {
   "cell_type": "code",
   "execution_count": 29,
   "metadata": {},
   "outputs": [
    {
     "data": {
      "image/png": "[encoded data removed]",
      "text/plain": [
       "<Figure size 432x288 with 1 Axes>"
      ]
     },
     "metadata": {
      "needs_background": "light"
     },
     "output_type": "display_data"
    }
   ],
   "source": [
    "# Display histogram\n",
    "plt.bar(np.arange(len(bins)-1), error_percent_perage, align='edge')\n",
    "plt.xticks(np.arange(len(bins)-1), bins[:-1])\n",
    "plt.savefig(\"/home/bvelasco/Results/ResNet/Exp2_agebias.jpg\")\n",
    "plt.show()\n"
   ]
  },
  {
   "cell_type": "code",
   "execution_count": null,
   "metadata": {},
   "outputs": [],
   "source": []
  }
 ],
 "metadata": {
  "accelerator": "GPU",
  "colab": {
   "collapsed_sections": [],
   "name": "MedNIST_tutorial.ipynb",
   "provenance": []
  },
  "kernelspec": {
   "display_name": "Kernel Python3.6",
   "language": "python",
   "name": "python3.6"
  },
  "language_info": {
   "codemirror_mode": {
    "name": "ipython",
    "version": 3
   },
   "file_extension": ".py",
   "mimetype": "text/x-python",
   "name": "python",
   "nbconvert_exporter": "python",
   "pygments_lexer": "ipython3",
   "version": "3.6.12"
  }
 },
 "nbformat": 4,
 "nbformat_minor": 4
}
