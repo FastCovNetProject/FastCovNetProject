{
 "cells": [
  {
   "cell_type": "markdown",
   "metadata": {},
   "source": [
    "# FASTCOVNET: COVID CLASSIFICATION WITH CHEST RADIOGRAPHY AND TABULAR DATA"
   ]
  },
  {
   "cell_type": "markdown",
   "metadata": {},
   "source": [
    "### Load required modules"
   ]
  },
  {
   "cell_type": "code",
   "execution_count": 1,
   "metadata": {
    "colab": {},
    "colab_type": "code",
    "id": "Ty_YA-cLBpyr"
   },
   "outputs": [
    {
     "name": "stdout",
     "output_type": "stream",
     "text": [
      "MONAI version: 0.3.0\n",
      "Python version: 3.6.12 |Anaconda, Inc.| (default, Sep  8 2020, 23:10:56)  [GCC 7.3.0]\n",
      "OS version: Linux (5.4.0-40-generic)\n",
      "Numpy version: 1.19.1\n",
      "Pytorch version: 1.6.0\n",
      "MONAI flags: HAS_EXT = False, USE_COMPILED = False\n",
      "\n",
      "Optional dependencies:\n",
      "Pytorch Ignite version: NOT INSTALLED or UNKNOWN VERSION.\n",
      "Nibabel version: NOT INSTALLED or UNKNOWN VERSION.\n",
      "scikit-image version: 0.16.2\n",
      "Pillow version: 7.2.0\n",
      "Tensorboard version: 2.2.1\n",
      "gdown version: NOT INSTALLED or UNKNOWN VERSION.\n",
      "TorchVision version: 0.7.0\n",
      "ITK version: NOT INSTALLED or UNKNOWN VERSION.\n",
      "tqdm version: 4.48.2\n",
      "\n",
      "For details about installing the optional dependencies, please visit:\n",
      "    https://docs.monai.io/en/latest/installation.html#installing-the-recommended-dependencies\n",
      "\n"
     ]
    }
   ],
   "source": [
    "import os\n",
    "import numpy as np\n",
    "%matplotlib inline\n",
    "import matplotlib.pyplot as plt\n",
    "from PIL import Image\n",
    "\n",
    "import torch\n",
    "from torch.utils.data import Dataset, DataLoader\n",
    "\n",
    "from monai.config import print_config\n",
    "from monai.transforms import \\\n",
    "    Compose, LoadPNG, AddChannel, ScaleIntensity, ToTensor, RandRotate, RandFlip, RandZoom, NormalizeIntensity, RepeatChannel\n",
    "from monai.networks.nets import densenet121\n",
    "from monai.metrics import compute_roc_auc\n",
    "from sklearn.metrics import roc_auc_score\n",
    "\n",
    "import pandas as pd\n",
    "import random\n",
    "\n",
    "import matplotlib.pyplot as plt\n",
    "import datetime\n",
    "\n",
    "import torchvision.models as models\n",
    "import torch.nn as nn\n",
    "\n",
    "pd.set_option('display.max_colwidth', 250)\n",
    "pd.set_option('display.max_columns', None)\n",
    "\n",
    "np.random.seed(1)\n",
    "print_config()\n"
   ]
  },
  {
   "cell_type": "markdown",
   "metadata": {
    "colab_type": "text",
    "id": "qHhD_snaB70p"
   },
   "source": [
    "## Read data and set vars"
   ]
  },
  {
   "cell_type": "code",
   "execution_count": 2,
   "metadata": {
    "colab": {},
    "colab_type": "code",
    "id": "ZaHFhidyCBJa"
   },
   "outputs": [],
   "source": [
    "# Vars\n",
    "working_directory = '/mnt/datasets/fastcovnet/'\n",
    "columnToPredict = 'Case_type'\n",
    "resolution = '224'\n",
    "path_saved_model = os.path.expanduser(\"~\")+'/best_metric_'+columnToPredict+'_'+resolution+'.pth'"
   ]
  },
  {
   "cell_type": "code",
   "execution_count": 3,
   "metadata": {},
   "outputs": [],
   "source": [
    "# Image part read\n",
    "image_data = pd.read_csv(os.path.join(working_directory,'cohort_gold_20201116.csv'),\"|\")"
   ]
  },
  {
   "cell_type": "code",
   "execution_count": 4,
   "metadata": {},
   "outputs": [],
   "source": [
    "# Tabular part read\n",
    "tab_data = pd.read_csv(os.path.join(\"/home/bvelasco/fastcovnet\",'gold_tabular.csv'),\"|\")"
   ]
  },
  {
   "cell_type": "code",
   "execution_count": 5,
   "metadata": {},
   "outputs": [],
   "source": [
    "# Remove rows with same patient, same study date\n",
    "patient_dup = image_data[image_data.PatientId.duplicated(keep=False)]\n",
    "patient_date_dup = patient_dup[patient_dup.StudyDateTime.duplicated()]"
   ]
  },
  {
   "cell_type": "code",
   "execution_count": 6,
   "metadata": {},
   "outputs": [],
   "source": [
    "# Drop duplicate patients from tabular data and merge. then drop NAs\n",
    "tab_data.drop_duplicates(['PatientId'], inplace=True)\n",
    "#image_data.drop_duplicates(['PatientId'], inplace=True)\n",
    "data = pd.merge(tab_data, image_data, on='PatientId', how='left')\n",
    "data = data[~data.StudyDateTime.isna()]"
   ]
  },
  {
   "cell_type": "code",
   "execution_count": 7,
   "metadata": {},
   "outputs": [],
   "source": [
    "# NULL removal of predicted variable\n",
    "data = data[data[columnToPredict].isna()==False]\n",
    "\n",
    "# Select multimodal columns and impute values\n",
    "tab_cols = ['Sex', 'Age', 'TROPO', 'HB', 'HEMATOCRITO', 'SatO2'] \n",
    "data[tab_cols] = data[tab_cols].fillna(data[tab_cols].mean()) # no nas in categorical vars\n",
    "\n",
    "# Convert columnToPredict to string, just in case they're numbers, so we don't have any errors.\n",
    "data[columnToPredict] = data[columnToPredict].astype(str)"
   ]
  },
  {
   "cell_type": "code",
   "execution_count": 8,
   "metadata": {},
   "outputs": [
    {
     "data": {
      "text/plain": [
       "Case       754\n",
       "Control    284\n",
       "Name: Case_type, dtype: int64"
      ]
     },
     "execution_count": 8,
     "metadata": {},
     "output_type": "execute_result"
    }
   ],
   "source": [
    "# Classes to predict\n",
    "class_names = sorted(data[columnToPredict].unique())\n",
    "num_class = len(class_names)\n",
    "data[columnToPredict].value_counts()"
   ]
  },
  {
   "cell_type": "code",
   "execution_count": 9,
   "metadata": {},
   "outputs": [],
   "source": [
    "# Create list with directory of images and their labels\n",
    "data.reset_index(inplace=True, drop=True)\n",
    "data[columnToPredict] = pd.Categorical(data[columnToPredict])\n",
    "data[\"to_predict\"] = data[columnToPredict].cat.codes\n",
    "dict(enumerate(data[columnToPredict].cat.categories))\n",
    "\n",
    "image_file_list = data.path_jpg.tolist()\n",
    "image_label_list = data.to_predict.tolist()\n",
    "\n",
    "num_total = len(image_label_list) "
   ]
  },
  {
   "cell_type": "code",
   "execution_count": 10,
   "metadata": {},
   "outputs": [
    {
     "data": {
      "text/plain": [
       "Control    284\n",
       "Case       284\n",
       "Name: Case_type, dtype: int64"
      ]
     },
     "execution_count": 10,
     "metadata": {},
     "output_type": "execute_result"
    }
   ],
   "source": [
    "# Balance classes - not used here\n",
    "num_conts = data[data[columnToPredict]=='Control'].shape[0]\n",
    "data_controls = data[data[columnToPredict]=='Control']\n",
    "data_casos = data[data[columnToPredict]=='Case'].sample(num_conts)\n",
    "data = pd.concat([data_casos, data_controls])\n",
    "num_total = num_conts*2\n",
    "data[columnToPredict].value_counts()"
   ]
  },
  {
   "cell_type": "code",
   "execution_count": 11,
   "metadata": {},
   "outputs": [],
   "source": [
    "# Select from image_file_list and label_file_list the images that are actually in data after balancing\n",
    "mapping = map(image_file_list.__getitem__, data.index.to_numpy())\n",
    "image_file_list_2 = list(mapping)\n",
    "mapping = map(image_label_list.__getitem__, data.index.to_numpy())\n",
    "image_label_list_2 = list(mapping)"
   ]
  },
  {
   "cell_type": "markdown",
   "metadata": {
    "colab_type": "text",
    "id": "tkguefb6CTw5"
   },
   "source": [
    "## Prepare training, validation and test data lists\n",
    "Randomly select 10% of the dataset as validation and 10% as test."
   ]
  },
  {
   "cell_type": "code",
   "execution_count": 12,
   "metadata": {
    "colab": {},
    "colab_type": "code",
    "id": "WuryrHlpCYfK"
   },
   "outputs": [
    {
     "name": "stdout",
     "output_type": "stream",
     "text": [
      "Training count = 452 Validation count = 71 Test count = 45\n"
     ]
    }
   ],
   "source": [
    "valid_frac, test_frac = 0.1, 0.1\n",
    "trainX, trainY = [], []\n",
    "valX, valY = [], []\n",
    "testX, testY = [], []\n",
    "\n",
    "# Keep record of which split which image goes to (test, train, val). Later append to \"data\" csv\n",
    "split = []\n",
    "\n",
    "for i in range(num_total):\n",
    "    rann = np.random.random()\n",
    "    if rann < valid_frac:\n",
    "        valX.append(image_file_list_2[i])\n",
    "        valY.append(image_label_list_2[i])\n",
    "        split.append('val')\n",
    "    elif rann < test_frac + valid_frac:\n",
    "        testX.append(image_file_list_2[i])\n",
    "        testY.append(image_label_list_2[i])\n",
    "        split.append('test')\n",
    "    else:\n",
    "        trainX.append(image_file_list_2[i])\n",
    "        trainY.append(image_label_list_2[i])\n",
    "        split.append('train')\n",
    "\n",
    "print(\"Training count =\",len(trainX),\"Validation count =\", len(valX), \"Test count =\",len(testX))"
   ]
  },
  {
   "cell_type": "code",
   "execution_count": 13,
   "metadata": {},
   "outputs": [],
   "source": [
    "# Add the info of which split belongs to each datapoint to the table\n",
    "path_split = pd.DataFrame({\n",
    "    'path_jpg': image_file_list_2,\n",
    "    'Split': split\n",
    "})\n",
    "data = pd.merge(data, path_split, on='path_jpg', how='left')"
   ]
  },
  {
   "cell_type": "code",
   "execution_count": 14,
   "metadata": {},
   "outputs": [
    {
     "data": {
      "text/plain": [
       "Control    230\n",
       "Case       222\n",
       "Name: Case_type, dtype: int64"
      ]
     },
     "execution_count": 14,
     "metadata": {},
     "output_type": "execute_result"
    }
   ],
   "source": [
    "data[data['Split']=='train']['Case_type'].value_counts()"
   ]
  },
  {
   "cell_type": "code",
   "execution_count": 15,
   "metadata": {},
   "outputs": [
    {
     "data": {
      "text/plain": [
       "Case       28\n",
       "Control    17\n",
       "Name: Case_type, dtype: int64"
      ]
     },
     "execution_count": 15,
     "metadata": {},
     "output_type": "execute_result"
    }
   ],
   "source": [
    "data[data['Split']=='test']['Case_type'].value_counts()"
   ]
  },
  {
   "cell_type": "code",
   "execution_count": 16,
   "metadata": {},
   "outputs": [
    {
     "data": {
      "text/plain": [
       "Control    37\n",
       "Case       34\n",
       "Name: Case_type, dtype: int64"
      ]
     },
     "execution_count": 16,
     "metadata": {},
     "output_type": "execute_result"
    }
   ],
   "source": [
    "data[data['Split']=='val']['Case_type'].value_counts()"
   ]
  },
  {
   "cell_type": "markdown",
   "metadata": {
    "colab_type": "text",
    "id": "IJRqm8MNCbi4"
   },
   "source": [
    "## Define transforms, Dataset, Dataloader"
   ]
  },
  {
   "cell_type": "code",
   "execution_count": 17,
   "metadata": {
    "colab": {},
    "colab_type": "code",
    "id": "PMsUgaYNCfrw"
   },
   "outputs": [],
   "source": [
    "train_transforms = Compose([\n",
    "    LoadPNG(image_only=True),\n",
    "    AddChannel(),\n",
    "    RepeatChannel(3),\n",
    "    ScaleIntensity(),\n",
    "    RandRotate(range_x=90, prob=0.5, keep_size=True),\n",
    "    RandFlip(spatial_axis=0, prob=0.5),\n",
    "    RandZoom(min_zoom=0.9, max_zoom=1.1, prob=0.5, keep_size=True),\n",
    "    ToTensor()\n",
    "])\n",
    "\n",
    "val_transforms = Compose([\n",
    "    LoadPNG(image_only=True),\n",
    "    AddChannel(),\n",
    "    ScaleIntensity(),\n",
    "    RepeatChannel(3),\n",
    "    ToTensor()\n",
    "])"
   ]
  },
  {
   "cell_type": "code",
   "execution_count": 18,
   "metadata": {},
   "outputs": [],
   "source": [
    "# Columns of interest of the tabular data\n",
    "class ChestCovNetDataset(Dataset):\n",
    "\n",
    "    def __init__(self, image_files, labels, tabular_data, tab_cols, transforms):\n",
    "        self.image_files = image_files\n",
    "        self.labels = labels\n",
    "        self.tabular_data = tabular_data\n",
    "        self.tabular_cols = tab_cols\n",
    "        self.transforms = transforms\n",
    "\n",
    "    def __len__(self):\n",
    "        return len(self.image_files)\n",
    "\n",
    "    def __getitem__(self, index):\n",
    "        # Get tabular data of each image (in this case sex and age)\n",
    "        image = self.transforms(self.image_files[index])\n",
    "        tab_vector = self.tabular_data.iloc[index][self.tabular_cols]\n",
    "        tab_vector = torch.tensor(tab_vector).float()     \n",
    "        return (tab_vector, image), self.labels[index]\n",
    "\n",
    "train_ds = ChestCovNetDataset(trainX, trainY, data, tab_cols, train_transforms)\n",
    "train_loader = DataLoader(train_ds, batch_size=15, shuffle=True, num_workers=10)\n",
    "\n",
    "val_ds = ChestCovNetDataset(valX, valY, data, tab_cols, val_transforms)\n",
    "val_loader = DataLoader(val_ds, batch_size=15, num_workers=10)\n",
    "\n",
    "test_ds = ChestCovNetDataset(testX, testY, data, tab_cols, val_transforms)\n",
    "test_loader = DataLoader(test_ds, batch_size=15, num_workers=10)"
   ]
  },
  {
   "cell_type": "code",
   "execution_count": 19,
   "metadata": {},
   "outputs": [],
   "source": [
    "# Inherit from Function\n",
    "class LinearFunction(torch.autograd.Function): # Not required\n",
    "\n",
    "    # Note that both forward and backward are @staticmethods\n",
    "    @staticmethod\n",
    "    # bias is an optional argument\n",
    "    def forward(ctx, input, weight, bias=None):\n",
    "        ctx.save_for_backward(input, weight, bias)\n",
    "        output = input.mm(weight.t())\n",
    "        if bias is not None:\n",
    "            output += bias.unsqueeze(0).expand_as(output)\n",
    "        return output\n",
    "\n",
    "    # This function has only a single output, so it gets only one gradient\n",
    "    @staticmethod\n",
    "    def backward(ctx, grad_output):\n",
    "        # This is a pattern that is very convenient - at the top of backward\n",
    "        # unpack saved_tensors and initialize all gradients w.r.t. inputs to\n",
    "        # None. Thanks to the fact that additional trailing Nones are\n",
    "        # ignored, the return statement is simple even when the function has\n",
    "        # optional inputs.\n",
    "        input, weight, bias = ctx.saved_tensors\n",
    "        grad_input = grad_weight = grad_bias = None\n",
    "\n",
    "        # These needs_input_grad checks are optional and there only to\n",
    "        # improve efficiency. If you want to make your code simpler, you can\n",
    "        # skip them. Returning gradients for inputs that don't require it is\n",
    "        # not an error.\n",
    "        if ctx.needs_input_grad[0]:\n",
    "            grad_input = grad_output.mm(weight)\n",
    "        if ctx.needs_input_grad[1]:\n",
    "            grad_weight = grad_output.t().mm(input)\n",
    "        if bias is not None and ctx.needs_input_grad[2]:\n",
    "            grad_bias = grad_output.sum(0)\n",
    "\n",
    "        return grad_input, grad_weight, grad_bias"
   ]
  },
  {
   "cell_type": "code",
   "execution_count": 20,
   "metadata": {},
   "outputs": [],
   "source": [
    "class Linear_combinative(nn.Module): # Not used\n",
    "    def __init__(self, img_in_features, tab_in_features, output_features, bias=True):\n",
    "        super(Linear_combinative, self).__init__()\n",
    "        self.img_in_features = img_in_features\n",
    "        self.tab_in_features = tab_in_features\n",
    "        self.output_features = output_features\n",
    "\n",
    "        # nn.Parameter is a special kind of Tensor, that will get\n",
    "        # automatically registered as Module's parameter once it's assigned\n",
    "        # as an attribute. Parameters and buffers need to be registered, or\n",
    "        # they won't appear in .parameters() (doesn't apply to buffers), and\n",
    "        # won't be converted when e.g. .cuda() is called. You can use\n",
    "        # .register_buffer() to register buffers.\n",
    "        # nn.Parameters require gradients by default.\n",
    "        self.weight1 = nn.Parameter(torch.Tensor(output_features, img_in_features))\n",
    "        self.weight2 = nn.Parameter(torch.Tensor(output_features, tab_in_features))\n",
    "        if bias:\n",
    "            self.bias1 = nn.Parameter(torch.Tensor(output_features))\n",
    "            self.bias2 = nn.Parameter(torch.Tensor(output_features))\n",
    "        else:\n",
    "            # You should always register all possible parameters, but the\n",
    "            # optional ones can be None if you want.\n",
    "            self.register_parameter('bias', None)\n",
    "\n",
    "        # Not a very smart way to initialize weights\n",
    "        self.weight1.data.uniform_(-0.1, 0.1)\n",
    "        self.weight2.data.uniform_(-0.1, 0.1)\n",
    "        \n",
    "        \n",
    "        if self.bias1 is not None:\n",
    "            self.bias1.data.uniform_(-0.1, 0.1)\n",
    "            self.bias2.data.uniform_(-0.1, 0.1)\n",
    "\n",
    "    #def forward(self, input):\n",
    "    #    # See the autograd section for explanation of what happens here.\n",
    "    #    img_part = LinearFunction.apply(input[0], self.weight1, self.bias1)\n",
    "    #    tab_part = LinearFunction.apply(input[1], self.weight2, self.bias2)\n",
    "    #    return img_part + tab_part\n",
    "    \n",
    "    def forward(self, input):\n",
    "        # See the autograd section for explanation of what happens here.\n",
    "        img_part = LinearFunction.apply(input[0], self.weight1, self.bias1)\n",
    "        tab_part = LinearFunction.apply(input[1], self.weight2, self.bias2)\n",
    "        concatenated_data = torch.cat(img_part, tab_part)\n",
    "        return concatenated_data\n",
    "\n",
    "    def extra_repr(self):\n",
    "        # (Optional)Set the extra information about this module. You can test\n",
    "        # it by printing an object of this class.\n",
    "        return 'image_input_features={}, tabular_input_features={}, output_features={}, bias={}'.format(\n",
    "            self.img_in_features, self.tab_in_features, self.output_features, self.bias1 is not None\n",
    "        )\n",
    "    "
   ]
  },
  {
   "cell_type": "markdown",
   "metadata": {},
   "source": [
    "# Define our custom network, and the modules that will conform it"
   ]
  },
  {
   "cell_type": "code",
   "execution_count": 21,
   "metadata": {},
   "outputs": [],
   "source": [
    "# Define our own network class, MultiModalNet\n",
    "class MultiModalNet(nn.Module):\n",
    "    \n",
    "    def __init__(self, image_model, tab_model, classifier):\n",
    "        super(MultiModalNet, self).__init__()\n",
    "        #self()._init_()\n",
    "        self.image_model = image_model\n",
    "        self.tab_model = tab_model\n",
    "        self.classifier = classifier\n",
    "               \n",
    "            \n",
    "    def forward(self, x):        \n",
    "        # Separate image part from tabular part\n",
    "        t = x[0]\n",
    "        im = x[1]\n",
    "        \n",
    "        # Feed image part\n",
    "        x = self.image_model(im)\n",
    "        x = torch.flatten(x, 1)\n",
    "        \n",
    "        # Feed tabular part\n",
    "        t = self.tab_model(t)\n",
    "        \n",
    "        # Concatenate image output part with tabular data and feed to Linear combinative layer\n",
    "        z = torch.cat((x, t), 1)\n",
    "        y = self.classifier(z)\n",
    "        return y\n",
    "        "
   ]
  },
  {
   "cell_type": "markdown",
   "metadata": {},
   "source": [
    "## Image part"
   ]
  },
  {
   "cell_type": "code",
   "execution_count": 22,
   "metadata": {},
   "outputs": [],
   "source": [
    "# Load image trained model\n",
    "device = torch.device(\"cuda:0\")\n",
    "image_model = models.googlenet(pretrained=True)\n",
    "image_model.fc = nn.Sequential(\n",
    "    nn.Linear(in_features = 1024, out_features = 1, bias = True),\n",
    "    nn.Sigmoid()\n",
    "    ) # must be in same shape as the trained one\n",
    "checkpoint = torch.load('best_metric_GoogLeNet_224.pth') # load state\n",
    "image_model.load_state_dict(checkpoint[\"model\"])\n",
    "\n",
    "# Freeze model and adapt last layer\n",
    "for param in image_model.parameters(): \n",
    "    param.requires_grad = False\n",
    "image_feats = 1024\n",
    "image_model.fc = image_model.fc = nn.Sequential(\n",
    "    nn.Linear(in_features = 1024, out_features = image_feats, bias = True),\n",
    "    nn.Sigmoid()\n",
    "    ) # Adapt last layer\n",
    "image_model.fc.requires_grad=True\n",
    "image_model = image_model.to(device)"
   ]
  },
  {
   "cell_type": "code",
   "execution_count": 23,
   "metadata": {},
   "outputs": [],
   "source": [
    "#image_model"
   ]
  },
  {
   "cell_type": "markdown",
   "metadata": {},
   "source": [
    "## Tabular part"
   ]
  },
  {
   "cell_type": "code",
   "execution_count": 24,
   "metadata": {},
   "outputs": [
    {
     "data": {
      "text/plain": [
       "Sequential(\n",
       "  (0): Linear(in_features=6, out_features=200, bias=True)\n",
       "  (1): ReLU()\n",
       "  (2): Linear(in_features=200, out_features=100, bias=True)\n",
       ")"
      ]
     },
     "execution_count": 24,
     "metadata": {},
     "output_type": "execute_result"
    }
   ],
   "source": [
    "# Create tabular part model (fully connected, 1 hidden layer)\n",
    "tab_in = len(tab_cols)\n",
    "tab_hidden = 200\n",
    "tab_feats = 100\n",
    "tab_model = nn.Sequential(\n",
    "    nn.Linear(tab_in, tab_hidden),\n",
    "    nn.ReLU(),\n",
    "    nn.Linear(tab_hidden, tab_feats))\n",
    "tab_model.to(device)"
   ]
  },
  {
   "cell_type": "code",
   "execution_count": 25,
   "metadata": {},
   "outputs": [
    {
     "data": {
      "text/plain": [
       "Sequential(\n",
       "  (0): Linear(in_features=1124, out_features=1, bias=True)\n",
       "  (1): Sigmoid()\n",
       ")"
      ]
     },
     "execution_count": 25,
     "metadata": {},
     "output_type": "execute_result"
    }
   ],
   "source": [
    "# Create last part, classifier\n",
    "image_feats = 1024\n",
    "classifier = nn.Sequential(\n",
    "    nn.Linear(in_features = tab_feats+image_feats, out_features = 1, bias = True),\n",
    "    nn.Sigmoid()\n",
    "    )\n",
    "classifier.to(device)"
   ]
  },
  {
   "cell_type": "code",
   "execution_count": 26,
   "metadata": {},
   "outputs": [
    {
     "name": "stdout",
     "output_type": "stream",
     "text": [
      "done\n"
     ]
    }
   ],
   "source": [
    "multi_model = MultiModalNet(image_model=image_model, tab_model=tab_model, classifier=classifier)\n",
    "multi_model.to(device)\n",
    "print('done')"
   ]
  },
  {
   "cell_type": "markdown",
   "metadata": {
    "colab_type": "text",
    "id": "hmwtEGBbCtuL"
   },
   "source": [
    "## Define optimizer and loss"
   ]
  },
  {
   "cell_type": "code",
   "execution_count": 27,
   "metadata": {},
   "outputs": [],
   "source": [
    "## Model name and path to save model\n",
    "model_name = multi_model.__class__.__name__\n",
    "path_saved_model = 'multi_model.pth'\n",
    "\n",
    "## Loss and optimizer\n",
    "loss_function = torch.nn.BCELoss()\n",
    "optimizer = torch.optim.Adam(multi_model.parameters(), 1e-5)\n",
    "\n",
    "epoch_num = 100\n",
    "val_interval = 1"
   ]
  },
  {
   "cell_type": "markdown",
   "metadata": {
    "colab_type": "text",
    "id": "6XpGqz_oDkXP"
   },
   "source": [
    "## Model training"
   ]
  },
  {
   "cell_type": "code",
   "execution_count": 28,
   "metadata": {
    "colab": {
     "base_uri": "https://localhost:8080/",
     "height": 1000
    },
    "colab_type": "code",
    "id": "MpKhLo3YDpXw",
    "outputId": "4ab8085c-2f1b-4ce0-b11e-070c09763a7a"
   },
   "outputs": [
    {
     "name": "stdout",
     "output_type": "stream",
     "text": [
      "----------\n",
      "epoch 1/100\n",
      "epoch 1 average loss: 0.7887\n",
      "tensor(0.7805, device='cuda:0')\n",
      "saved new best metric model\n",
      "current epoch: 1 current AUC: 0.3251 current accuracy: 0.3521 best AUC: 0.3251 at epoch: 1\n",
      "----------\n",
      "epoch 2/100\n",
      "epoch 2 average loss: 0.7613\n",
      "tensor(0.7571, device='cuda:0')\n",
      "saved new best metric model\n",
      "current epoch: 2 current AUC: 0.3378 current accuracy: 0.3803 best AUC: 0.3378 at epoch: 2\n",
      "----------\n",
      "epoch 3/100\n",
      "epoch 3 average loss: 0.7460\n",
      "tensor(0.7431, device='cuda:0')\n",
      "saved new best metric model\n",
      "current epoch: 3 current AUC: 0.3498 current accuracy: 0.3944 best AUC: 0.3498 at epoch: 3\n",
      "----------\n",
      "epoch 4/100\n",
      "epoch 4 average loss: 0.7263\n",
      "tensor(0.7279, device='cuda:0')\n",
      "saved new best metric model\n",
      "current epoch: 4 current AUC: 0.3831 current accuracy: 0.4507 best AUC: 0.3831 at epoch: 4\n",
      "----------\n",
      "epoch 5/100\n",
      "epoch 5 average loss: 0.7124\n",
      "tensor(0.7174, device='cuda:0')\n",
      "saved new best metric model\n",
      "current epoch: 5 current AUC: 0.4261 current accuracy: 0.4930 best AUC: 0.4261 at epoch: 5\n",
      "----------\n",
      "epoch 6/100\n",
      "epoch 6 average loss: 0.7019\n",
      "tensor(0.7077, device='cuda:0')\n",
      "saved new best metric model\n",
      "current epoch: 6 current AUC: 0.4563 current accuracy: 0.5211 best AUC: 0.4563 at epoch: 6\n",
      "----------\n",
      "epoch 7/100\n",
      "epoch 7 average loss: 0.6912\n",
      "tensor(0.7009, device='cuda:0')\n",
      "saved new best metric model\n",
      "current epoch: 7 current AUC: 0.4905 current accuracy: 0.5211 best AUC: 0.4905 at epoch: 7\n",
      "----------\n",
      "epoch 8/100\n",
      "epoch 8 average loss: 0.6864\n",
      "tensor(0.6905, device='cuda:0')\n",
      "saved new best metric model\n",
      "current epoch: 8 current AUC: 0.5469 current accuracy: 0.5211 best AUC: 0.5469 at epoch: 8\n",
      "----------\n",
      "epoch 9/100\n",
      "epoch 9 average loss: 0.6777\n",
      "tensor(0.6851, device='cuda:0')\n",
      "saved new best metric model\n",
      "current epoch: 9 current AUC: 0.5739 current accuracy: 0.5634 best AUC: 0.5739 at epoch: 9\n",
      "----------\n",
      "epoch 10/100\n",
      "epoch 10 average loss: 0.6744\n",
      "tensor(0.6778, device='cuda:0')\n",
      "saved new best metric model\n",
      "current epoch: 10 current AUC: 0.6153 current accuracy: 0.6056 best AUC: 0.6153 at epoch: 10\n",
      "----------\n",
      "epoch 11/100\n",
      "epoch 11 average loss: 0.6702\n",
      "tensor(0.6758, device='cuda:0')\n",
      "current epoch: 11 current AUC: 0.6073 current accuracy: 0.5493 best AUC: 0.6153 at epoch: 10\n",
      "----------\n",
      "epoch 12/100\n",
      "epoch 12 average loss: 0.6701\n",
      "tensor(0.6696, device='cuda:0')\n",
      "saved new best metric model\n",
      "current epoch: 12 current AUC: 0.6423 current accuracy: 0.6197 best AUC: 0.6423 at epoch: 12\n",
      "----------\n",
      "epoch 13/100\n",
      "epoch 13 average loss: 0.6692\n",
      "tensor(0.6674, device='cuda:0')\n",
      "saved new best metric model\n",
      "current epoch: 13 current AUC: 0.6653 current accuracy: 0.5915 best AUC: 0.6653 at epoch: 13\n",
      "----------\n",
      "epoch 14/100\n",
      "epoch 14 average loss: 0.6586\n",
      "tensor(0.6617, device='cuda:0')\n",
      "saved new best metric model\n",
      "current epoch: 14 current AUC: 0.6685 current accuracy: 0.6197 best AUC: 0.6685 at epoch: 14\n",
      "----------\n",
      "epoch 15/100\n",
      "epoch 15 average loss: 0.6569\n",
      "tensor(0.6590, device='cuda:0')\n",
      "saved new best metric model\n",
      "current epoch: 15 current AUC: 0.6804 current accuracy: 0.6338 best AUC: 0.6804 at epoch: 15\n",
      "----------\n",
      "epoch 16/100\n",
      "epoch 16 average loss: 0.6562\n",
      "tensor(0.6558, device='cuda:0')\n",
      "saved new best metric model\n",
      "current epoch: 16 current AUC: 0.6971 current accuracy: 0.6338 best AUC: 0.6971 at epoch: 16\n",
      "----------\n",
      "epoch 17/100\n",
      "epoch 17 average loss: 0.6554\n",
      "tensor(0.6555, device='cuda:0')\n",
      "current epoch: 17 current AUC: 0.6844 current accuracy: 0.6479 best AUC: 0.6971 at epoch: 16\n",
      "----------\n",
      "epoch 18/100\n",
      "epoch 18 average loss: 0.6546\n",
      "tensor(0.6520, device='cuda:0')\n",
      "current epoch: 18 current AUC: 0.6868 current accuracy: 0.6197 best AUC: 0.6971 at epoch: 16\n",
      "----------\n",
      "epoch 19/100\n",
      "epoch 19 average loss: 0.6461\n",
      "tensor(0.6485, device='cuda:0')\n",
      "current epoch: 19 current AUC: 0.6940 current accuracy: 0.6338 best AUC: 0.6971 at epoch: 16\n",
      "----------\n",
      "epoch 20/100\n",
      "epoch 20 average loss: 0.6530\n",
      "tensor(0.6532, device='cuda:0')\n",
      "current epoch: 20 current AUC: 0.6948 current accuracy: 0.6197 best AUC: 0.6971 at epoch: 16\n",
      "----------\n",
      "epoch 21/100\n",
      "epoch 21 average loss: 0.6490\n",
      "tensor(0.6434, device='cuda:0')\n",
      "saved new best metric model\n",
      "current epoch: 21 current AUC: 0.7011 current accuracy: 0.6338 best AUC: 0.7011 at epoch: 21\n",
      "----------\n",
      "epoch 22/100\n",
      "epoch 22 average loss: 0.6472\n",
      "tensor(0.6435, device='cuda:0')\n",
      "saved new best metric model\n",
      "current epoch: 22 current AUC: 0.7091 current accuracy: 0.6479 best AUC: 0.7091 at epoch: 22\n",
      "----------\n",
      "epoch 23/100\n",
      "epoch 23 average loss: 0.6354\n",
      "tensor(0.6418, device='cuda:0')\n",
      "current epoch: 23 current AUC: 0.6963 current accuracy: 0.6479 best AUC: 0.7091 at epoch: 22\n",
      "----------\n",
      "epoch 24/100\n",
      "epoch 24 average loss: 0.6369\n",
      "tensor(0.6373, device='cuda:0')\n",
      "current epoch: 24 current AUC: 0.7083 current accuracy: 0.6338 best AUC: 0.7091 at epoch: 22\n",
      "----------\n",
      "epoch 25/100\n",
      "epoch 25 average loss: 0.6376\n",
      "tensor(0.6411, device='cuda:0')\n",
      "current epoch: 25 current AUC: 0.6948 current accuracy: 0.6479 best AUC: 0.7091 at epoch: 22\n",
      "----------\n",
      "epoch 26/100\n",
      "epoch 26 average loss: 0.6272\n",
      "tensor(0.6398, device='cuda:0')\n",
      "current epoch: 26 current AUC: 0.6987 current accuracy: 0.6197 best AUC: 0.7091 at epoch: 22\n",
      "----------\n",
      "epoch 27/100\n",
      "epoch 27 average loss: 0.6298\n",
      "tensor(0.6359, device='cuda:0')\n",
      "current epoch: 27 current AUC: 0.7035 current accuracy: 0.6479 best AUC: 0.7091 at epoch: 22\n",
      "----------\n",
      "epoch 28/100\n",
      "epoch 28 average loss: 0.6337\n",
      "tensor(0.6351, device='cuda:0')\n",
      "current epoch: 28 current AUC: 0.7059 current accuracy: 0.6620 best AUC: 0.7091 at epoch: 22\n",
      "----------\n",
      "epoch 29/100\n",
      "epoch 29 average loss: 0.6338\n",
      "tensor(0.6355, device='cuda:0')\n",
      "current epoch: 29 current AUC: 0.7067 current accuracy: 0.6197 best AUC: 0.7091 at epoch: 22\n",
      "----------\n",
      "epoch 30/100\n",
      "epoch 30 average loss: 0.6258\n",
      "tensor(0.6315, device='cuda:0')\n",
      "saved new best metric model\n",
      "current epoch: 30 current AUC: 0.7122 current accuracy: 0.6761 best AUC: 0.7122 at epoch: 30\n",
      "----------\n",
      "epoch 31/100\n",
      "epoch 31 average loss: 0.6198\n",
      "tensor(0.6300, device='cuda:0')\n",
      "saved new best metric model\n",
      "current epoch: 31 current AUC: 0.7138 current accuracy: 0.6479 best AUC: 0.7138 at epoch: 31\n",
      "----------\n",
      "epoch 32/100\n",
      "epoch 32 average loss: 0.6215\n",
      "tensor(0.6315, device='cuda:0')\n",
      "current epoch: 32 current AUC: 0.7083 current accuracy: 0.6620 best AUC: 0.7138 at epoch: 31\n",
      "----------\n",
      "epoch 33/100\n",
      "epoch 33 average loss: 0.6139\n",
      "tensor(0.6286, device='cuda:0')\n",
      "saved new best metric model\n",
      "current epoch: 33 current AUC: 0.7154 current accuracy: 0.6479 best AUC: 0.7154 at epoch: 33\n",
      "----------\n",
      "epoch 34/100\n",
      "epoch 34 average loss: 0.6291\n",
      "tensor(0.6258, device='cuda:0')\n",
      "current epoch: 34 current AUC: 0.7130 current accuracy: 0.6479 best AUC: 0.7154 at epoch: 33\n",
      "----------\n",
      "epoch 35/100\n",
      "epoch 35 average loss: 0.6146\n",
      "tensor(0.6314, device='cuda:0')\n",
      "current epoch: 35 current AUC: 0.7122 current accuracy: 0.6479 best AUC: 0.7154 at epoch: 33\n",
      "----------\n",
      "epoch 36/100\n",
      "epoch 36 average loss: 0.6225\n",
      "tensor(0.6276, device='cuda:0')\n",
      "saved new best metric model\n",
      "current epoch: 36 current AUC: 0.7234 current accuracy: 0.6620 best AUC: 0.7234 at epoch: 36\n",
      "----------\n",
      "epoch 37/100\n",
      "epoch 37 average loss: 0.6172\n",
      "tensor(0.6266, device='cuda:0')\n",
      "current epoch: 37 current AUC: 0.7170 current accuracy: 0.6479 best AUC: 0.7234 at epoch: 36\n",
      "----------\n",
      "epoch 38/100\n",
      "epoch 38 average loss: 0.6232\n",
      "tensor(0.6250, device='cuda:0')\n",
      "saved new best metric model\n",
      "current epoch: 38 current AUC: 0.7250 current accuracy: 0.6620 best AUC: 0.7250 at epoch: 38\n",
      "----------\n",
      "epoch 39/100\n",
      "epoch 39 average loss: 0.6158\n",
      "tensor(0.6274, device='cuda:0')\n",
      "current epoch: 39 current AUC: 0.7122 current accuracy: 0.6338 best AUC: 0.7250 at epoch: 38\n",
      "----------\n",
      "epoch 40/100\n",
      "epoch 40 average loss: 0.6155\n",
      "tensor(0.6265, device='cuda:0')\n",
      "current epoch: 40 current AUC: 0.7099 current accuracy: 0.6479 best AUC: 0.7250 at epoch: 38\n",
      "----------\n",
      "epoch 41/100\n",
      "epoch 41 average loss: 0.6137\n",
      "tensor(0.6276, device='cuda:0')\n",
      "current epoch: 41 current AUC: 0.7075 current accuracy: 0.6338 best AUC: 0.7250 at epoch: 38\n",
      "----------\n",
      "epoch 42/100\n",
      "epoch 42 average loss: 0.6117\n",
      "tensor(0.6264, device='cuda:0')\n",
      "current epoch: 42 current AUC: 0.7194 current accuracy: 0.6620 best AUC: 0.7250 at epoch: 38\n",
      "----------\n",
      "epoch 43/100\n",
      "epoch 43 average loss: 0.6052\n",
      "tensor(0.6255, device='cuda:0')\n",
      "current epoch: 43 current AUC: 0.7114 current accuracy: 0.6620 best AUC: 0.7250 at epoch: 38\n",
      "----------\n",
      "epoch 44/100\n",
      "epoch 44 average loss: 0.6053\n",
      "tensor(0.6273, device='cuda:0')\n",
      "current epoch: 44 current AUC: 0.7075 current accuracy: 0.6338 best AUC: 0.7250 at epoch: 38\n",
      "----------\n",
      "epoch 45/100\n",
      "epoch 45 average loss: 0.5988\n",
      "tensor(0.6219, device='cuda:0')\n",
      "current epoch: 45 current AUC: 0.7186 current accuracy: 0.6620 best AUC: 0.7250 at epoch: 38\n",
      "----------\n",
      "epoch 46/100\n",
      "epoch 46 average loss: 0.6116\n",
      "tensor(0.6227, device='cuda:0')\n",
      "current epoch: 46 current AUC: 0.7178 current accuracy: 0.6479 best AUC: 0.7250 at epoch: 38\n",
      "----------\n",
      "epoch 47/100\n",
      "epoch 47 average loss: 0.6112\n",
      "tensor(0.6278, device='cuda:0')\n",
      "current epoch: 47 current AUC: 0.7178 current accuracy: 0.6479 best AUC: 0.7250 at epoch: 38\n",
      "----------\n",
      "epoch 48/100\n",
      "epoch 48 average loss: 0.6171\n",
      "tensor(0.6166, device='cuda:0')\n",
      "saved new best metric model\n",
      "current epoch: 48 current AUC: 0.7258 current accuracy: 0.6761 best AUC: 0.7258 at epoch: 48\n",
      "----------\n",
      "epoch 49/100\n",
      "epoch 49 average loss: 0.6089\n",
      "tensor(0.6249, device='cuda:0')\n",
      "current epoch: 49 current AUC: 0.7083 current accuracy: 0.6479 best AUC: 0.7258 at epoch: 48\n",
      "----------\n",
      "epoch 50/100\n",
      "epoch 50 average loss: 0.6088\n",
      "tensor(0.6198, device='cuda:0')\n",
      "current epoch: 50 current AUC: 0.7186 current accuracy: 0.6479 best AUC: 0.7258 at epoch: 48\n",
      "----------\n",
      "epoch 51/100\n",
      "epoch 51 average loss: 0.6061\n",
      "tensor(0.6150, device='cuda:0')\n",
      "current epoch: 51 current AUC: 0.7258 current accuracy: 0.6479 best AUC: 0.7258 at epoch: 48\n",
      "----------\n",
      "epoch 52/100\n",
      "epoch 52 average loss: 0.6050\n",
      "tensor(0.6203, device='cuda:0')\n",
      "current epoch: 52 current AUC: 0.7083 current accuracy: 0.6479 best AUC: 0.7258 at epoch: 48\n",
      "----------\n",
      "epoch 53/100\n",
      "epoch 53 average loss: 0.6133\n",
      "tensor(0.6128, device='cuda:0')\n",
      "saved new best metric model\n",
      "current epoch: 53 current AUC: 0.7297 current accuracy: 0.6620 best AUC: 0.7297 at epoch: 53\n",
      "----------\n",
      "epoch 54/100\n",
      "epoch 54 average loss: 0.6042\n",
      "tensor(0.6178, device='cuda:0')\n",
      "current epoch: 54 current AUC: 0.7130 current accuracy: 0.6197 best AUC: 0.7297 at epoch: 53\n",
      "----------\n",
      "epoch 55/100\n",
      "epoch 55 average loss: 0.6043\n",
      "tensor(0.6200, device='cuda:0')\n",
      "current epoch: 55 current AUC: 0.7130 current accuracy: 0.6338 best AUC: 0.7297 at epoch: 53\n",
      "----------\n",
      "epoch 56/100\n",
      "epoch 56 average loss: 0.6042\n",
      "tensor(0.6103, device='cuda:0')\n",
      "saved new best metric model\n",
      "current epoch: 56 current AUC: 0.7369 current accuracy: 0.6761 best AUC: 0.7369 at epoch: 56\n",
      "----------\n",
      "epoch 57/100\n",
      "epoch 57 average loss: 0.6019\n",
      "tensor(0.6124, device='cuda:0')\n",
      "current epoch: 57 current AUC: 0.7329 current accuracy: 0.6620 best AUC: 0.7369 at epoch: 56\n",
      "----------\n",
      "epoch 58/100\n",
      "epoch 58 average loss: 0.6007\n",
      "tensor(0.6130, device='cuda:0')\n",
      "current epoch: 58 current AUC: 0.7297 current accuracy: 0.6761 best AUC: 0.7369 at epoch: 56\n",
      "----------\n",
      "epoch 59/100\n",
      "epoch 59 average loss: 0.5993\n",
      "tensor(0.6105, device='cuda:0')\n",
      "current epoch: 59 current AUC: 0.7273 current accuracy: 0.6338 best AUC: 0.7369 at epoch: 56\n",
      "----------\n",
      "epoch 60/100\n",
      "epoch 60 average loss: 0.5956\n",
      "tensor(0.6140, device='cuda:0')\n",
      "current epoch: 60 current AUC: 0.7194 current accuracy: 0.6620 best AUC: 0.7369 at epoch: 56\n",
      "----------\n",
      "epoch 61/100\n",
      "epoch 61 average loss: 0.5966\n",
      "tensor(0.6088, device='cuda:0')\n",
      "current epoch: 61 current AUC: 0.7305 current accuracy: 0.6620 best AUC: 0.7369 at epoch: 56\n",
      "----------\n",
      "epoch 62/100\n",
      "epoch 62 average loss: 0.6071\n",
      "tensor(0.6101, device='cuda:0')\n",
      "current epoch: 62 current AUC: 0.7305 current accuracy: 0.6620 best AUC: 0.7369 at epoch: 56\n",
      "----------\n",
      "epoch 63/100\n",
      "epoch 63 average loss: 0.6049\n",
      "tensor(0.6182, device='cuda:0')\n",
      "current epoch: 63 current AUC: 0.7130 current accuracy: 0.6620 best AUC: 0.7369 at epoch: 56\n",
      "----------\n",
      "epoch 64/100\n",
      "epoch 64 average loss: 0.5906\n",
      "tensor(0.6092, device='cuda:0')\n",
      "current epoch: 64 current AUC: 0.7273 current accuracy: 0.6338 best AUC: 0.7369 at epoch: 56\n",
      "----------\n",
      "epoch 65/100\n",
      "epoch 65 average loss: 0.5911\n",
      "tensor(0.6142, device='cuda:0')\n",
      "current epoch: 65 current AUC: 0.7305 current accuracy: 0.6620 best AUC: 0.7369 at epoch: 56\n",
      "----------\n",
      "epoch 66/100\n",
      "epoch 66 average loss: 0.5912\n",
      "tensor(0.6172, device='cuda:0')\n",
      "current epoch: 66 current AUC: 0.7083 current accuracy: 0.6338 best AUC: 0.7369 at epoch: 56\n",
      "----------\n",
      "epoch 67/100\n",
      "epoch 67 average loss: 0.5906\n",
      "tensor(0.6095, device='cuda:0')\n",
      "current epoch: 67 current AUC: 0.7258 current accuracy: 0.6620 best AUC: 0.7369 at epoch: 56\n",
      "----------\n",
      "epoch 68/100\n",
      "epoch 68 average loss: 0.5847\n",
      "tensor(0.6106, device='cuda:0')\n",
      "current epoch: 68 current AUC: 0.7266 current accuracy: 0.6620 best AUC: 0.7369 at epoch: 56\n",
      "----------\n",
      "epoch 69/100\n",
      "epoch 69 average loss: 0.5891\n",
      "tensor(0.6117, device='cuda:0')\n",
      "current epoch: 69 current AUC: 0.7242 current accuracy: 0.6479 best AUC: 0.7369 at epoch: 56\n",
      "----------\n",
      "epoch 70/100\n",
      "epoch 70 average loss: 0.6040\n",
      "tensor(0.6129, device='cuda:0')\n",
      "current epoch: 70 current AUC: 0.7210 current accuracy: 0.6620 best AUC: 0.7369 at epoch: 56\n",
      "----------\n",
      "epoch 71/100\n",
      "epoch 71 average loss: 0.5817\n",
      "tensor(0.6072, device='cuda:0')\n",
      "current epoch: 71 current AUC: 0.7297 current accuracy: 0.6479 best AUC: 0.7369 at epoch: 56\n",
      "----------\n",
      "epoch 72/100\n",
      "epoch 72 average loss: 0.5862\n",
      "tensor(0.6125, device='cuda:0')\n",
      "current epoch: 72 current AUC: 0.7345 current accuracy: 0.6479 best AUC: 0.7369 at epoch: 56\n",
      "----------\n",
      "epoch 73/100\n",
      "epoch 73 average loss: 0.5815\n",
      "tensor(0.6085, device='cuda:0')\n",
      "current epoch: 73 current AUC: 0.7289 current accuracy: 0.6901 best AUC: 0.7369 at epoch: 56\n",
      "----------\n",
      "epoch 74/100\n",
      "epoch 74 average loss: 0.5992\n",
      "tensor(0.6148, device='cuda:0')\n",
      "current epoch: 74 current AUC: 0.7170 current accuracy: 0.6479 best AUC: 0.7369 at epoch: 56\n",
      "----------\n",
      "epoch 75/100\n",
      "epoch 75 average loss: 0.5879\n",
      "tensor(0.6179, device='cuda:0')\n",
      "current epoch: 75 current AUC: 0.7202 current accuracy: 0.6197 best AUC: 0.7369 at epoch: 56\n",
      "----------\n",
      "epoch 76/100\n",
      "epoch 76 average loss: 0.5895\n",
      "tensor(0.6113, device='cuda:0')\n",
      "current epoch: 76 current AUC: 0.7202 current accuracy: 0.6620 best AUC: 0.7369 at epoch: 56\n",
      "----------\n",
      "epoch 77/100\n",
      "epoch 77 average loss: 0.5830\n",
      "tensor(0.6106, device='cuda:0')\n",
      "current epoch: 77 current AUC: 0.7258 current accuracy: 0.6620 best AUC: 0.7369 at epoch: 56\n",
      "----------\n",
      "epoch 78/100\n",
      "epoch 78 average loss: 0.5926\n",
      "tensor(0.6042, device='cuda:0')\n",
      "current epoch: 78 current AUC: 0.7353 current accuracy: 0.6761 best AUC: 0.7369 at epoch: 56\n",
      "----------\n",
      "epoch 79/100\n",
      "epoch 79 average loss: 0.5950\n",
      "tensor(0.6079, device='cuda:0')\n",
      "current epoch: 79 current AUC: 0.7289 current accuracy: 0.6761 best AUC: 0.7369 at epoch: 56\n",
      "----------\n",
      "epoch 80/100\n",
      "epoch 80 average loss: 0.6042\n",
      "tensor(0.6093, device='cuda:0')\n",
      "current epoch: 80 current AUC: 0.7226 current accuracy: 0.6338 best AUC: 0.7369 at epoch: 56\n",
      "----------\n",
      "epoch 81/100\n",
      "epoch 81 average loss: 0.5758\n",
      "tensor(0.6083, device='cuda:0')\n",
      "current epoch: 81 current AUC: 0.7329 current accuracy: 0.6338 best AUC: 0.7369 at epoch: 56\n",
      "----------\n",
      "epoch 82/100\n",
      "epoch 82 average loss: 0.5788\n",
      "tensor(0.6092, device='cuda:0')\n",
      "current epoch: 82 current AUC: 0.7281 current accuracy: 0.6338 best AUC: 0.7369 at epoch: 56\n",
      "----------\n",
      "epoch 83/100\n",
      "epoch 83 average loss: 0.5796\n",
      "tensor(0.6160, device='cuda:0')\n",
      "current epoch: 83 current AUC: 0.7154 current accuracy: 0.6479 best AUC: 0.7369 at epoch: 56\n",
      "----------\n",
      "epoch 84/100\n",
      "epoch 84 average loss: 0.5786\n",
      "tensor(0.6016, device='cuda:0')\n",
      "current epoch: 84 current AUC: 0.7329 current accuracy: 0.6901 best AUC: 0.7369 at epoch: 56\n",
      "----------\n",
      "epoch 85/100\n",
      "epoch 85 average loss: 0.5826\n",
      "tensor(0.6093, device='cuda:0')\n",
      "current epoch: 85 current AUC: 0.7321 current accuracy: 0.6338 best AUC: 0.7369 at epoch: 56\n",
      "----------\n",
      "epoch 86/100\n",
      "epoch 86 average loss: 0.5822\n",
      "tensor(0.6113, device='cuda:0')\n",
      "current epoch: 86 current AUC: 0.7266 current accuracy: 0.6901 best AUC: 0.7369 at epoch: 56\n",
      "----------\n",
      "epoch 87/100\n",
      "epoch 87 average loss: 0.5705\n",
      "tensor(0.6081, device='cuda:0')\n",
      "current epoch: 87 current AUC: 0.7258 current accuracy: 0.6620 best AUC: 0.7369 at epoch: 56\n",
      "----------\n",
      "epoch 88/100\n",
      "epoch 88 average loss: 0.5748\n",
      "tensor(0.6075, device='cuda:0')\n",
      "current epoch: 88 current AUC: 0.7281 current accuracy: 0.6761 best AUC: 0.7369 at epoch: 56\n",
      "----------\n",
      "epoch 89/100\n",
      "epoch 89 average loss: 0.5902\n",
      "tensor(0.6028, device='cuda:0')\n",
      "current epoch: 89 current AUC: 0.7313 current accuracy: 0.6761 best AUC: 0.7369 at epoch: 56\n",
      "----------\n",
      "epoch 90/100\n",
      "epoch 90 average loss: 0.5778\n",
      "tensor(0.6179, device='cuda:0')\n",
      "current epoch: 90 current AUC: 0.7146 current accuracy: 0.6620 best AUC: 0.7369 at epoch: 56\n",
      "----------\n",
      "epoch 91/100\n",
      "epoch 91 average loss: 0.5737\n",
      "tensor(0.6272, device='cuda:0')\n",
      "current epoch: 91 current AUC: 0.6987 current accuracy: 0.6479 best AUC: 0.7369 at epoch: 56\n",
      "----------\n",
      "epoch 92/100\n",
      "epoch 92 average loss: 0.5693\n",
      "tensor(0.6030, device='cuda:0')\n",
      "current epoch: 92 current AUC: 0.7281 current accuracy: 0.6901 best AUC: 0.7369 at epoch: 56\n",
      "----------\n",
      "epoch 93/100\n",
      "epoch 93 average loss: 0.5729\n",
      "tensor(0.6102, device='cuda:0')\n",
      "current epoch: 93 current AUC: 0.7281 current accuracy: 0.6620 best AUC: 0.7369 at epoch: 56\n",
      "----------\n",
      "epoch 94/100\n",
      "epoch 94 average loss: 0.5859\n",
      "tensor(0.6026, device='cuda:0')\n",
      "current epoch: 94 current AUC: 0.7345 current accuracy: 0.6620 best AUC: 0.7369 at epoch: 56\n",
      "----------\n",
      "epoch 95/100\n",
      "epoch 95 average loss: 0.5722\n",
      "tensor(0.6085, device='cuda:0')\n",
      "current epoch: 95 current AUC: 0.7289 current accuracy: 0.6479 best AUC: 0.7369 at epoch: 56\n",
      "----------\n",
      "epoch 96/100\n",
      "epoch 96 average loss: 0.5725\n",
      "tensor(0.6121, device='cuda:0')\n",
      "current epoch: 96 current AUC: 0.7202 current accuracy: 0.6338 best AUC: 0.7369 at epoch: 56\n",
      "----------\n",
      "epoch 97/100\n",
      "epoch 97 average loss: 0.5651\n",
      "tensor(0.6099, device='cuda:0')\n",
      "current epoch: 97 current AUC: 0.7305 current accuracy: 0.6620 best AUC: 0.7369 at epoch: 56\n",
      "----------\n",
      "epoch 98/100\n",
      "epoch 98 average loss: 0.5918\n",
      "tensor(0.6216, device='cuda:0')\n",
      "current epoch: 98 current AUC: 0.7099 current accuracy: 0.6197 best AUC: 0.7369 at epoch: 56\n",
      "----------\n",
      "epoch 99/100\n",
      "epoch 99 average loss: 0.5733\n",
      "tensor(0.6084, device='cuda:0')\n",
      "current epoch: 99 current AUC: 0.7250 current accuracy: 0.6761 best AUC: 0.7369 at epoch: 56\n",
      "----------\n",
      "epoch 100/100\n",
      "epoch 100 average loss: 0.5854\n",
      "tensor(0.6074, device='cuda:0')\n",
      "current epoch: 100 current AUC: 0.7289 current accuracy: 0.6901 best AUC: 0.7369 at epoch: 56\n",
      "train completed, best_metric: 0.7369 at epoch: 56\n"
     ]
    }
   ],
   "source": [
    "if 'best_metric' not in vars():\n",
    "    best_metric = -1\n",
    "    best_metric_epoch = -1\n",
    "    epoch_loss_values = list()\n",
    "    val_loss_values = list()\n",
    "    metric_values = list()\n",
    "    checkpoint = {\n",
    "    }\n",
    "    \n",
    "early_stop = False\n",
    "patience_tol = 1e-2\n",
    "\n",
    "# Measure time\n",
    "start = datetime.datetime.now()\n",
    "\n",
    "for epoch in range(epoch_num):\n",
    "    print('-' * 10)\n",
    "    print(f\"epoch {epoch + 1}/{epoch_num}\")\n",
    "    multi_model.train()\n",
    "    epoch_loss = 0\n",
    "    step = 0\n",
    "    for batch_data in train_loader:\n",
    "        step += 1\n",
    "        inputs = [batch_data[0][0].to(device), batch_data[0][1].to(device)]\n",
    "        labels = batch_data[1].float().to(device)\n",
    "        optimizer.zero_grad()\n",
    "        outputs = multi_model(inputs)\n",
    "        outputs = outputs.view(-1)\n",
    "        loss = loss_function(outputs, labels)\n",
    "        loss.backward()\n",
    "        optimizer.step()\n",
    "        epoch_loss += loss.item()\n",
    "        #print(f\"{step}/{len(train_ds) // train_loader.batch_size}, train_loss: {loss.item():.4f}\")\n",
    "        epoch_len = len(train_ds) // train_loader.batch_size\n",
    "    epoch_loss /= step\n",
    "    epoch_loss_values.append(epoch_loss)\n",
    "    print(f\"epoch {epoch + 1} average loss: {epoch_loss:.4f}\")\n",
    "\n",
    "    if (epoch + 1) % val_interval == 0:\n",
    "        multi_model.eval()\n",
    "        with torch.no_grad():\n",
    "            y_pred = torch.tensor([], dtype=torch.float32, device=device)\n",
    "            y = torch.tensor([], dtype=torch.long, device=device)\n",
    "            #valid_loss=0\n",
    "            \n",
    "            for val_data in val_loader:\n",
    "                val_images = [val_data[0][0].to(device), val_data[0][1].to(device)]\n",
    "                val_labels = val_data[1].float().to(device)\n",
    "                y_pred = torch.cat([y_pred, multi_model(val_images).view(-1)], dim=0)\n",
    "                y = torch.cat([y, val_labels], dim=0)\n",
    "                \n",
    "            auc_metric = roc_auc_score(y.cpu(), y_pred.cpu())\n",
    "            metric_values.append(auc_metric)\n",
    "            \n",
    "            score = y_pred>0.5\n",
    "            acc_value = torch.eq(score, y)\n",
    "            acc_metric = acc_value.sum().item() / len(acc_value)\n",
    "            \n",
    "            valid_loss = loss_function(y_pred, y)\n",
    "            print(valid_loss)\n",
    "            val_loss_values.append(valid_loss)\n",
    "            \n",
    "            if auc_metric > best_metric:\n",
    "                best_metric = auc_metric\n",
    "                best_metric_epoch = epoch + 1\n",
    "                checkpoint['model'] = multi_model.state_dict()\n",
    "                print('saved new best metric model')\n",
    "            print(f\"current epoch: {epoch + 1} current AUC: {auc_metric:.4f}\"\n",
    "                  f\" current accuracy: {acc_metric:.4f} best AUC: {best_metric:.4f}\"\n",
    "                  f\" at epoch: {best_metric_epoch}\")\n",
    "            \n",
    "            #if epoch>4:\n",
    "            #    if val_loss_values[epoch]-val_loss_values[epoch-4] < patience_tol:\n",
    "            #        best_metric = auc_metric\n",
    "            #        best_metric_epoch = epoch + 1\n",
    "            #        checkpoint['model'] = model.state_dict()\n",
    "            #        print('saved new best metric model')\n",
    "            #        print(f\"train completed, early stop, best_metric: {best_metric:.4f} at epoch: {best_metric_epoch}\")\n",
    "            #        early_stop = True\n",
    "            #        break\n",
    "                    \n",
    "                    \n",
    "print(f\"train completed, best_metric: {best_metric:.4f} at epoch: {best_metric_epoch}\")\n",
    "\n",
    "time = datetime.datetime.now() - start\n",
    "\n"
   ]
  },
  {
   "cell_type": "markdown",
   "metadata": {},
   "source": [
    "## Save the model\n"
   ]
  },
  {
   "cell_type": "code",
   "execution_count": 29,
   "metadata": {},
   "outputs": [],
   "source": [
    "# Let's save model and current status\n",
    "checkpoint['optimizer'] = optimizer.state_dict()\n",
    "checkpoint['epoch_loss_values'] = epoch_loss_values\n",
    "checkpoint['metric_values'] = metric_values\n",
    "\n",
    "torch.save(checkpoint, 'multimodal.pth')"
   ]
  },
  {
   "cell_type": "markdown",
   "metadata": {},
   "source": [
    "## Load the model"
   ]
  },
  {
   "cell_type": "code",
   "execution_count": 30,
   "metadata": {},
   "outputs": [],
   "source": [
    "# Let's load the best model and our current training state\n",
    "#checkpoint = torch.load(path_saved_model)\n",
    "checkpoint = torch.load('multimodal.pth')\n",
    "\n",
    "\n",
    "multi_model.load_state_dict(checkpoint[\"model\"])\n",
    "optimizer.load_state_dict(checkpoint[\"optimizer\"])\n",
    "\n",
    "epoch_loss_values = checkpoint['epoch_loss_values']\n",
    "metric_values = checkpoint['metric_values']"
   ]
  },
  {
   "cell_type": "markdown",
   "metadata": {
    "colab_type": "text",
    "id": "kBDNC9--DtI8"
   },
   "source": [
    "## Plot the loss and metric"
   ]
  },
  {
   "cell_type": "code",
   "execution_count": 31,
   "metadata": {
    "colab": {
     "base_uri": "https://localhost:8080/",
     "height": 404
    },
    "colab_type": "code",
    "id": "7P1BlRfsDuz4",
    "outputId": "024870ac-50d1-4626-870a-1f329fbaa7c5"
   },
   "outputs": [
    {
     "data": {
      "image/png": "[encoded data removed]",
      "text/plain": [
       "<Figure size 864x432 with 2 Axes>"
      ]
     },
     "metadata": {
      "needs_background": "light"
     },
     "output_type": "display_data"
    }
   ],
   "source": [
    "plt.figure('train', (12, 6))\n",
    "plt.subplot(1, 2, 1)\n",
    "plt.title(\"Epoch Average Loss\")\n",
    "x = [i + 1 for i in range(len(epoch_loss_values))]\n",
    "y = epoch_loss_values\n",
    "plt.plot(x, y)\n",
    "x = [i + 1 for i in range(len(val_loss_values))]\n",
    "y = val_loss_values\n",
    "plt.xlabel('epoch')\n",
    "plt.plot(x, y)\n",
    "plt.legend(['Train', 'Val'])\n",
    "\n",
    "plt.subplot(1, 2, 2)\n",
    "plt.title(\"Validation: Area under the ROC curve\")\n",
    "x = [val_interval * (i + 1) for i in range(len(metric_values))]\n",
    "y = metric_values\n",
    "plt.xlabel('epoch')\n",
    "plt.plot(x, y)\n",
    "plt.savefig(\"/home/bvelasco/Results/Multi/Exp4.jpg\")\n",
    "plt.show()"
   ]
  },
  {
   "cell_type": "markdown",
   "metadata": {
    "colab_type": "text",
    "id": "Hrx_mtTODyOe"
   },
   "source": [
    "## Evaluate the model on test dataset\n",
    "After training and validation, we already got the best model on validation test.\n",
    "We need to evaluate the model on test dataset to check whether it's robust and not over-fitting.\n",
    "We'll use these predictions to generate a classification report."
   ]
  },
  {
   "cell_type": "code",
   "execution_count": 32,
   "metadata": {},
   "outputs": [],
   "source": [
    "#model(next(iter(test_loader))[0].to(device))"
   ]
  },
  {
   "cell_type": "code",
   "execution_count": 33,
   "metadata": {
    "colab": {},
    "colab_type": "code",
    "id": "uHAA3LUxD2b6"
   },
   "outputs": [],
   "source": [
    "multi_model.eval()\n",
    "y_true = list()\n",
    "y_pred = list()\n",
    "with torch.no_grad():\n",
    "    for test_data in test_loader:\n",
    "        test_images = [test_data[0][0].to(device), test_data[0][1].to(device)]\n",
    "        test_labels = test_data[1].float().to(device)\n",
    "        pred = multi_model(test_images)\n",
    "        for i in range(len(pred)):\n",
    "            y_true.append(test_labels[i].item())\n",
    "            if pred[i]>=0.5:\n",
    "                y_pred.append(1)\n",
    "            else:\n",
    "                y_pred.append(0)\n",
    "            \n",
    "\n",
    "# Test:\n",
    "# \ty = m(x)\n",
    "# \tPassem y a llista\n",
    "# \tPassem labels a llista\n",
    "# \tExecutem sklearn per treure les mètriques"
   ]
  },
  {
   "cell_type": "code",
   "execution_count": 34,
   "metadata": {},
   "outputs": [],
   "source": [
    "# Append predicted values in test set to the csv\n",
    "predicted_result = pd.DataFrame(\n",
    "    {'path_jpg': testX,\n",
    "     'true': y_true,\n",
    "     'predicted': y_pred\n",
    "    })\n",
    "data = pd.merge(data, predicted_result, on='path_jpg', how='left')\n"
   ]
  },
  {
   "cell_type": "code",
   "execution_count": 35,
   "metadata": {
    "colab": {
     "base_uri": "https://localhost:8080/",
     "height": 238
    },
    "colab_type": "code",
    "id": "zOy8uzlwD8se",
    "outputId": "81393b51-45f0-4cb8-c05c-4f4b5e694be6"
   },
   "outputs": [
    {
     "name": "stdout",
     "output_type": "stream",
     "text": [
      "              precision    recall  f1-score   support\n",
      "\n",
      "        Case     0.8000    0.7143    0.7547        28\n",
      "     Control     0.6000    0.7059    0.6486        17\n",
      "\n",
      "    accuracy                         0.7111        45\n",
      "   macro avg     0.7000    0.7101    0.7017        45\n",
      "weighted avg     0.7244    0.7111    0.7146        45\n",
      "\n"
     ]
    }
   ],
   "source": [
    "from sklearn.metrics import classification_report\n",
    "print(classification_report(y_true, y_pred, target_names=class_names, digits=4))"
   ]
  },
  {
   "cell_type": "code",
   "execution_count": 36,
   "metadata": {},
   "outputs": [],
   "source": [
    "with open('/home/bvelasco/Results/Multi/Exp4.txt', 'a') as f:\n",
    "    f.write(\"#############################################################################\\n\")\n",
    "    f.write(f'Model: {model_name} \\n')\n",
    "    f.write(f'Training epochs: {epoch} \\n')\n",
    "    f.write(f'Batch size: {40} \\n')\n",
    "    #f.write(f'Training time: {time} \\n')\n",
    "    f.write(f'Results: \\n')\n",
    "    f.write(f'{classification_report(y_true, y_pred, target_names=class_names, digits=4)} \\n')\n",
    "    "
   ]
  },
  {
   "cell_type": "code",
   "execution_count": null,
   "metadata": {},
   "outputs": [],
   "source": []
  }
 ],
 "metadata": {
  "accelerator": "GPU",
  "colab": {
   "collapsed_sections": [],
   "name": "MedNIST_tutorial.ipynb",
   "provenance": []
  },
  "kernelspec": {
   "display_name": "Kernel Python3.6",
   "language": "python",
   "name": "python3.6"
  },
  "language_info": {
   "codemirror_mode": {
    "name": "ipython",
    "version": 3
   },
   "file_extension": ".py",
   "mimetype": "text/x-python",
   "name": "python",
   "nbconvert_exporter": "python",
   "pygments_lexer": "ipython3",
   "version": "3.6.12"
  }
 },
 "nbformat": 4,
 "nbformat_minor": 4
}
