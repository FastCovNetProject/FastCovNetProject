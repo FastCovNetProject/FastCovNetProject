{
 "cells": [
  {
   "cell_type": "code",
   "execution_count": 1,
   "metadata": {
    "colab": {},
    "colab_type": "code",
    "id": "Ty_YA-cLBpyr"
   },
   "outputs": [],
   "source": [
    "import os\n",
    "import numpy as np\n",
    "%matplotlib inline\n",
    "import matplotlib.pyplot as plt\n",
    "from PIL import Image\n",
    "\n",
    "import torch\n",
    "from torch.utils.data import Dataset, DataLoader\n",
    "\n",
    "from monai.config import print_config\n",
    "from monai.transforms import \\\n",
    "    Compose, LoadPNG, AddChannel, ScaleIntensity, ToTensor, RandRotate, RandFlip, RandZoom\n",
    "from monai.networks.nets import densenet121\n",
    "from monai.metrics import compute_roc_auc\n",
    "\n",
    "from datetime import datetime\n",
    "import pandas as pd\n",
    "\n",
    "pd.set_option('display.max_colwidth', 250)\n",
    "pd.set_option('display.max_columns', None)\n",
    "\n",
    "np.random.seed(0)"
   ]
  },
  {
   "cell_type": "markdown",
   "metadata": {},
   "source": [
    "### Define variables"
   ]
  },
  {
   "cell_type": "code",
   "execution_count": 3,
   "metadata": {},
   "outputs": [],
   "source": [
    "working_directory = '/mnt/datasets/fastcovnet/'\n",
    "columnToPredict = 'ViewPosition'\n",
    "resolution = '224'\n",
    "path_saved_model = os.path.expanduser(\"~\")+'/best_metric_'+columnToPredict+'_'+resolution+'.pth'\n",
    "\n",
    "epoch_num = 30"
   ]
  },
  {
   "cell_type": "code",
   "execution_count": 4,
   "metadata": {},
   "outputs": [],
   "source": [
    "# Cohort read\n",
    "data = pd.read_csv(os.path.join(working_directory,'cohort_viewposition_20201116.csv'),\"|\")\n",
    "\n",
    "# It's already done during cohort creation, but just in case we've a different columnToPredict or just to be sure we have it as string and not number.\n",
    "# NULL removal of predicted variable\n",
    "data = data[data[columnToPredict].isna()==False]\n",
    "\n",
    "# Convert columnToPredict to string, just in case they're numbers, so we don't have any errors.\n",
    "data[columnToPredict] = data[columnToPredict].astype(str)"
   ]
  },
  {
   "cell_type": "code",
   "execution_count": 6,
   "metadata": {},
   "outputs": [
    {
     "data": {
      "text/plain": [
       "PA    67145\n",
       "LL    49328\n",
       "AP    47648\n",
       "Name: ViewPosition, dtype: int64"
      ]
     },
     "execution_count": 6,
     "metadata": {},
     "output_type": "execute_result"
    }
   ],
   "source": [
    "# Classes to predict\n",
    "class_names = sorted(data[columnToPredict].unique())\n",
    "num_class = len(class_names)\n",
    "data[columnToPredict].value_counts()"
   ]
  },
  {
   "cell_type": "code",
   "execution_count": 8,
   "metadata": {},
   "outputs": [],
   "source": [
    "data[columnToPredict] = pd.Categorical(data[columnToPredict])\n",
    "data[\"to_predict\"] = data[columnToPredict].cat.codes\n",
    "\n",
    "image_file_list = data.path_jpg.tolist()\n",
    "image_label_list = data.to_predict.tolist()\n",
    "\n",
    "num_total = len(image_label_list) "
   ]
  },
  {
   "cell_type": "markdown",
   "metadata": {
    "colab_type": "text",
    "id": "9KuPf7t-CFEV"
   },
   "source": [
    "### Visualise some randomly picked examples from the dataset"
   ]
  },
  {
   "cell_type": "code",
   "execution_count": null,
   "metadata": {},
   "outputs": [],
   "source": [
    "fig, ax = plt.subplots(3,3, figsize=(20, 20))\n",
    "for i,k in enumerate(np.random.randint(num_total, size=9)):\n",
    "    im = Image.open(image_file_list[k])\n",
    "    arr = np.array(im)\n",
    "    ax[i//3][i%3].imshow(arr, cmap='gray', vmin=0, vmax=255)\n",
    "    ax[i//3][i%3].set_xlabel(str(k)+' - '+class_names[image_label_list[k]], fontsize=15)"
   ]
  },
  {
   "cell_type": "markdown",
   "metadata": {
    "colab_type": "text",
    "id": "tkguefb6CTw5"
   },
   "source": [
    "## Prepare training, validation and test data lists"
   ]
  },
  {
   "cell_type": "code",
   "execution_count": 10,
   "metadata": {
    "colab": {},
    "colab_type": "code",
    "id": "WuryrHlpCYfK"
   },
   "outputs": [
    {
     "name": "stdout",
     "output_type": "stream",
     "text": [
      "Training count = 131296 Validation count = 16413 Test count = 16412\n"
     ]
    }
   ],
   "source": [
    "valid_frac, test_frac = 0.1, 0.1\n",
    "trainX, trainY = [], []\n",
    "valX, valY = [], []\n",
    "testX, testY = [], []\n",
    "\n",
    "# Data is already random, so we can create datasets sequentially\n",
    "\n",
    "for i in range(num_total):\n",
    "    if i < (valid_frac * num_total):\n",
    "        valX.append(image_file_list[i])\n",
    "        valY.append(image_label_list[i])\n",
    "    elif i < ((valid_frac + test_frac) * num_total):\n",
    "        testX.append(image_file_list[i])\n",
    "        testY.append(image_label_list[i])\n",
    "    else:\n",
    "        trainX.append(image_file_list[i])\n",
    "        trainY.append(image_label_list[i])\n",
    "\n",
    "print(\"Training count =\",len(trainX),\"Validation count =\", len(valX), \"Test count =\",len(testX))"
   ]
  },
  {
   "cell_type": "markdown",
   "metadata": {
    "colab_type": "text",
    "id": "IJRqm8MNCbi4"
   },
   "source": [
    "## Define MONAI transforms, Dataset and Dataloader to pre-process data"
   ]
  },
  {
   "cell_type": "code",
   "execution_count": 11,
   "metadata": {
    "colab": {},
    "colab_type": "code",
    "id": "PMsUgaYNCfrw"
   },
   "outputs": [],
   "source": [
    "train_transforms = Compose([\n",
    "    LoadPNG(image_only=True),\n",
    "    AddChannel(),\n",
    "    ScaleIntensity(),\n",
    "    RandRotate(range_x=15, prob=0.5, keep_size=True),\n",
    "    RandFlip(spatial_axis=0, prob=0.5),\n",
    "    RandZoom(min_zoom=0.9, max_zoom=1.1, prob=0.5, keep_size=True),\n",
    "    ToTensor()\n",
    "])\n",
    "\n",
    "val_transforms = Compose([\n",
    "    LoadPNG(image_only=True),\n",
    "    AddChannel(),\n",
    "    ScaleIntensity(),\n",
    "    ToTensor()\n",
    "])"
   ]
  },
  {
   "cell_type": "code",
   "execution_count": 12,
   "metadata": {
    "colab": {},
    "colab_type": "code",
    "id": "JJgCYleyCpTT"
   },
   "outputs": [],
   "source": [
    "class MedNISTDataset(Dataset):\n",
    "\n",
    "    def __init__(self, image_files, labels, transforms):\n",
    "        self.image_files = image_files\n",
    "        self.labels = labels\n",
    "        self.transforms = transforms\n",
    "\n",
    "    def __len__(self):\n",
    "        return len(self.image_files)\n",
    "\n",
    "    def __getitem__(self, index):\n",
    "        return self.transforms(self.image_files[index]), self.labels[index]\n",
    "\n",
    "train_ds = MedNISTDataset(trainX, trainY, train_transforms)\n",
    "train_loader = DataLoader(train_ds, batch_size=80, shuffle=True, num_workers=10)\n",
    "\n",
    "val_ds = MedNISTDataset(valX, valY, val_transforms)\n",
    "val_loader = DataLoader(val_ds, batch_size=80, num_workers=10)\n",
    "\n",
    "test_ds = MedNISTDataset(testX, testY, val_transforms)\n",
    "test_loader = DataLoader(test_ds, batch_size=80, num_workers=10)"
   ]
  },
  {
   "cell_type": "markdown",
   "metadata": {
    "colab_type": "text",
    "id": "hmwtEGBbCtuL"
   },
   "source": [
    "## Define network and optimizer\n",
    "1. Set learning rate for how much the model is updated per batch.\n",
    "2. Set total epoch number, as we have shuffle and random transforms, so the training data of every epoch is different.\n",
    "And as this is just a get start tutorial, let's just train 4 epochs.\n",
    "If train 10 epochs, the model can achieve 100% accuracy on test dataset.\n",
    "3. Use DenseNet from MONAI and move to GPU devide, this DenseNet can support both 2D and 3D classification tasks.\n",
    "4. Use Adam optimizer."
   ]
  },
  {
   "cell_type": "code",
   "execution_count": 13,
   "metadata": {
    "colab": {},
    "colab_type": "code",
    "id": "3efM0bwsC1wS"
   },
   "outputs": [],
   "source": [
    "device = torch.device(\"cuda:0\")\n",
    "model = densenet121(\n",
    "    spatial_dims=2,\n",
    "    in_channels=1,\n",
    "    out_channels=num_class\n",
    ").to(device)\n",
    "loss_function = torch.nn.CrossEntropyLoss()\n",
    "optimizer = torch.optim.Adam(model.parameters(), 1e-5)\n",
    "val_interval = 1 # How often will we validate. 1 means it validates in every epoch"
   ]
  },
  {
   "cell_type": "code",
   "execution_count": 14,
   "metadata": {},
   "outputs": [
    {
     "name": "stdout",
     "output_type": "stream",
     "text": [
      "Model has been loaded\n"
     ]
    }
   ],
   "source": [
    "# If already exists, load model\n",
    "# Let's load the best model and our current training state\n",
    "try:\n",
    "    checkpoint = torch.load(path_saved_model)\n",
    "except:\n",
    "    print(\"Model NOT loaded\")\n",
    "else:\n",
    "    model.load_state_dict(checkpoint[\"model\"])\n",
    "    optimizer.load_state_dict(checkpoint[\"optimizer\"])\n",
    "\n",
    "    epoch_loss_values = checkpoint['epoch_loss_values']\n",
    "    metric_values = checkpoint['metric_values']\n",
    "    print(\"Model has been loaded\")"
   ]
  },
  {
   "cell_type": "code",
   "execution_count": 15,
   "metadata": {},
   "outputs": [],
   "source": [
    "# Checkpoint definition. We create a checkpoint to save not only the state of the model, but also its optimizer state (since it's Adam, it has memory). Looks like it's not a big deal if you don't restore, but you'll need a little more epochs to finish training with the same results.\n",
    "if 'best_metric' not in vars():\n",
    "    best_metric = -1\n",
    "    best_metric_epoch = -1\n",
    "    epoch_loss_values = list()\n",
    "    metric_values = list()\n",
    "    checkpoint = {}"
   ]
  },
  {
   "cell_type": "markdown",
   "metadata": {
    "colab_type": "text",
    "id": "6XpGqz_oDkXP"
   },
   "source": [
    "## Model training\n",
    "Execute a typical PyTorch training that run epoch loop and step loop, and do validation after every epoch.\n",
    "Will save the model weights to file if got best validation accuracy."
   ]
  },
  {
   "cell_type": "code",
   "execution_count": null,
   "metadata": {
    "colab": {
     "base_uri": "https://localhost:8080/",
     "height": 1000
    },
    "colab_type": "code",
    "id": "MpKhLo3YDpXw",
    "outputId": "4ab8085c-2f1b-4ce0-b11e-070c09763a7a"
   },
   "outputs": [],
   "source": [
    "for epoch in range(epoch_num):\n",
    "    print('-' * 10)\n",
    "    print(f\"epoch {epoch + 1}/{epoch_num}\")\n",
    "    model.train()\n",
    "    epoch_loss = 0\n",
    "    step = 0\n",
    "    start = datetime.now()\n",
    "    for batch_data in train_loader:\n",
    "        step += 1\n",
    "        inputs, labels = batch_data[0].to(device), batch_data[1].to(device)\n",
    "        optimizer.zero_grad()\n",
    "        outputs = model(inputs)\n",
    "        loss = loss_function(outputs, labels)\n",
    "        loss.backward()\n",
    "        optimizer.step()\n",
    "        epoch_loss += loss.item()\n",
    "        if step % 20 == 1:\n",
    "            print(f\"{step}/{len(train_ds) // train_loader.batch_size}, train_loss: {loss.item():.4f}\")\n",
    "            print(f'Estimated total time: {(datetime.now() - start).total_seconds()/60/20*epoch_num*(len(train_ds) // train_loader.batch_size)} minutes')\n",
    "            start = datetime.now()\n",
    "        epoch_len = len(train_ds) // train_loader.batch_size\n",
    "    epoch_loss /= step\n",
    "    epoch_loss_values.append(epoch_loss)\n",
    "    \n",
    "    print(f\"epoch {epoch + 1} average loss: {epoch_loss:.4f}\")\n",
    "\n",
    "    if (epoch + 1) % val_interval == 0:\n",
    "        model.eval()\n",
    "        with torch.no_grad():\n",
    "            y_pred = torch.tensor([], dtype=torch.float32, device=device)\n",
    "            y = torch.tensor([], dtype=torch.long, device=device)\n",
    "            for val_data in val_loader:\n",
    "                val_images, val_labels = val_data[0].to(device), val_data[1].to(device)\n",
    "                y_pred = torch.cat([y_pred, model(val_images)], dim=0)\n",
    "                y = torch.cat([y, val_labels], dim=0)\n",
    "            auc_metric = compute_roc_auc(y_pred, y, to_onehot_y=True, softmax=True)\n",
    "            metric_values.append(auc_metric)\n",
    "            acc_value = torch.eq(y_pred.argmax(dim=1), y)\n",
    "            acc_metric = acc_value.sum().item() / len(acc_value)\n",
    "            if auc_metric > best_metric:\n",
    "                best_metric = auc_metric\n",
    "                best_metric_epoch = epoch + 1\n",
    "                checkpoint['model'] = model.state_dict()\n",
    "                checkpoint['optimizer'] = optimizer.state_dict()\n",
    "                checkpoint['epoch_loss_values'] = epoch_loss_values\n",
    "                checkpoint['metric_values'] = metric_values\n",
    "                torch.save(checkpoint, path_saved_model)\n",
    "                print('saved new best metric model')\n",
    "            print(f\"current epoch: {epoch + 1} current AUC: {auc_metric:.4f}\"\n",
    "                  f\" current accuracy: {acc_metric:.4f} best AUC: {best_metric:.4f}\"\n",
    "                  f\" at epoch: {best_metric_epoch}\")\n",
    "print(f\"train completed, best_metric: {best_metric:.4f} at epoch: {best_metric_epoch}\")"
   ]
  },
  {
   "cell_type": "markdown",
   "metadata": {},
   "source": [
    "## Save the model"
   ]
  },
  {
   "cell_type": "code",
   "execution_count": 17,
   "metadata": {},
   "outputs": [],
   "source": [
    "# Let's save model and current status\n",
    "checkpoint['optimizer'] = optimizer.state_dict()\n",
    "checkpoint['epoch_loss_values'] = epoch_loss_values\n",
    "checkpoint['metric_values'] = metric_values\n",
    "\n",
    "torch.save(checkpoint, path_saved_model)"
   ]
  },
  {
   "cell_type": "markdown",
   "metadata": {},
   "source": [
    "## Load the model"
   ]
  },
  {
   "cell_type": "code",
   "execution_count": 18,
   "metadata": {},
   "outputs": [],
   "source": [
    "# Let's load the best model and our current training state\n",
    "checkpoint = torch.load(path_saved_model)\n",
    "\n",
    "model.load_state_dict(checkpoint[\"model\"])\n",
    "optimizer.load_state_dict(checkpoint[\"optimizer\"])\n",
    "\n",
    "epoch_loss_values = checkpoint['epoch_loss_values']\n",
    "metric_values = checkpoint['metric_values']"
   ]
  },
  {
   "cell_type": "markdown",
   "metadata": {
    "colab_type": "text",
    "id": "kBDNC9--DtI8"
   },
   "source": [
    "## Plot the loss and metric"
   ]
  },
  {
   "cell_type": "code",
   "execution_count": 15,
   "metadata": {
    "colab": {
     "base_uri": "https://localhost:8080/",
     "height": 404
    },
    "colab_type": "code",
    "id": "7P1BlRfsDuz4",
    "outputId": "024870ac-50d1-4626-870a-1f329fbaa7c5"
   },
   "outputs": [
    {
     "data": {
      "image/png": "[encoded data removed]",
      "text/plain": [
       "<Figure size 864x432 with 2 Axes>"
      ]
     },
     "metadata": {
      "needs_background": "light"
     },
     "output_type": "display_data"
    }
   ],
   "source": [
    "plt.figure('train', (12, 6))\n",
    "plt.subplot(1, 2, 1)\n",
    "plt.title(\"Epoch Average Loss\")\n",
    "x = [i + 1 for i in range(len(epoch_loss_values))]\n",
    "y = epoch_loss_values\n",
    "plt.xlabel('epoch')\n",
    "plt.plot(x, y)\n",
    "plt.subplot(1, 2, 2)\n",
    "plt.title(\"Validation: Area under the ROC curve\")\n",
    "x = [val_interval * (i + 1) for i in range(len(metric_values))]\n",
    "y = metric_values\n",
    "plt.xlabel('epoch')\n",
    "plt.plot(x, y)\n",
    "plt.show()"
   ]
  },
  {
   "cell_type": "markdown",
   "metadata": {
    "colab_type": "text",
    "id": "Hrx_mtTODyOe"
   },
   "source": [
    "## Evaluate the model on test dataset\n",
    "After training and validation, we already got the best model on validation test.\n",
    "We need to evaluate the model on test dataset to check whether it's robust and not over-fitting.\n",
    "We'll use these predictions to generate a classification report."
   ]
  },
  {
   "cell_type": "code",
   "execution_count": 16,
   "metadata": {
    "colab": {},
    "colab_type": "code",
    "id": "uHAA3LUxD2b6"
   },
   "outputs": [],
   "source": [
    "model.eval()\n",
    "y_true = list()\n",
    "y_pred = list()\n",
    "with torch.no_grad():\n",
    "    for test_data in test_loader:\n",
    "        test_images, test_labels = test_data[0].to(device), test_data[1].to(device)\n",
    "        pred = model(test_images).argmax(dim=1)\n",
    "        for i in range(len(pred)):\n",
    "            y_true.append(test_labels[i].item())\n",
    "            y_pred.append(pred[i].item())\n",
    "            \n",
    "# Test:\n",
    "# \ty = m(x)\n",
    "# \tPassem y a llista\n",
    "# \tPassem labels a llista\n",
    "# \tExecutem sklearn per treure les mètriques"
   ]
  },
  {
   "cell_type": "code",
   "execution_count": 17,
   "metadata": {
    "colab": {
     "base_uri": "https://localhost:8080/",
     "height": 238
    },
    "colab_type": "code",
    "id": "zOy8uzlwD8se",
    "outputId": "81393b51-45f0-4cb8-c05c-4f4b5e694be6"
   },
   "outputs": [
    {
     "name": "stdout",
     "output_type": "stream",
     "text": [
      "              precision    recall  f1-score   support\n",
      "\n",
      "          AP     0.9475    0.9596    0.9535      4854\n",
      "          LL     0.9821    0.9801    0.9811      4935\n",
      "          PA     0.9750    0.9674    0.9712      6623\n",
      "\n",
      "    accuracy                         0.9689     16412\n",
      "   macro avg     0.9682    0.9690    0.9686     16412\n",
      "weighted avg     0.9690    0.9689    0.9690     16412\n",
      "\n"
     ]
    }
   ],
   "source": [
    "from sklearn.metrics import classification_report\n",
    "print(classification_report(y_true, y_pred, target_names=class_names, digits=4))"
   ]
  },
  {
   "cell_type": "markdown",
   "metadata": {},
   "source": [
    "REVIEW OF RESULTS"
   ]
  },
  {
   "cell_type": "code",
   "execution_count": null,
   "metadata": {},
   "outputs": [],
   "source": [
    "# MISSES\n",
    "\n",
    "fig, ax = plt.subplots(3,3, figsize=(20, 20))\n",
    "for i,k in enumerate(np.random.randint(len(fallos), size=9)):\n",
    "    im = Image.open(fallos[\"full_path\"].iloc[k])\n",
    "    arr = np.array(im)\n",
    "    ax[i//3][i%3].imshow(arr, cmap='gray', vmin=0, vmax=255)\n",
    "    ax[i//3][i%3].set_xlabel(\"Predicted: \"+class_names[fallos[\"y_pred\"].iloc[k]]+\"   Real: \"+class_names[fallos[\"y_true\"].iloc[k]]+\"\\n\"+fallos[\"filename\"].iloc[k], fontsize=11)"
   ]
  },
  {
   "cell_type": "code",
   "execution_count": null,
   "metadata": {},
   "outputs": [],
   "source": [
    "# HITS\n",
    "\n",
    "fig, ax = plt.subplots(3,3, figsize=(20, 20))\n",
    "for i,k in enumerate(np.random.randint(len(encerts), size=9)):\n",
    "    im = Image.open(encerts[\"full_path\"].iloc[k])\n",
    "    arr = np.array(im)\n",
    "    ax[i//3][i%3].imshow(arr, cmap='gray', vmin=0, vmax=255)\n",
    "    ax[i//3][i%3].set_xlabel(class_names[encerts[\"y_pred\"].iloc[k]]+\"\\n\"+encerts[\"filename\"].iloc[k], fontsize=11)"
   ]
  },
  {
   "cell_type": "code",
   "execution_count": 15,
   "metadata": {},
   "outputs": [],
   "source": [
    "full_dataset = pd.read_csv(os.path.join(working_directory,'full_covid_dataset.csv'),\"|\")"
   ]
  },
  {
   "cell_type": "code",
   "execution_count": 18,
   "metadata": {},
   "outputs": [],
   "source": [
    "BodyPartExamined = [\"CHEST\", \"TORAX\", \"THORAX\"]"
   ]
  },
  {
   "cell_type": "code",
   "execution_count": 19,
   "metadata": {},
   "outputs": [],
   "source": [
    "# We'll do the same filters that were used to train this network\n",
    "\n",
    "to_score = full_dataset[full_dataset.BodyPartExamined.isin(BodyPartExamined)]\n",
    "to_score = to_score[to_score.ViewPosition.isna()]"
   ]
  },
  {
   "cell_type": "code",
   "execution_count": 21,
   "metadata": {},
   "outputs": [],
   "source": [
    "scoreX = to_score.path_jpg.tolist()\n",
    "\n",
    "score_ds = MedNISTDataset(scoreX, ['0'] * len(scoreX), val_transforms)\n",
    "score_loader = DataLoader(score_ds, batch_size=1200, num_workers=10)"
   ]
  },
  {
   "cell_type": "code",
   "execution_count": 22,
   "metadata": {},
   "outputs": [],
   "source": [
    "model.eval()\n",
    "y_true = list()\n",
    "y_pred = list()\n",
    "with torch.no_grad():\n",
    "    for score_data in score_loader:\n",
    "        score_images = score_data[0].to(device)\n",
    "        pred = model(score_images).argmax(dim=1)\n",
    "        for i in range(len(pred)):\n",
    "            #y_true.append(test_labels[i].item())\n",
    "            y_pred.append(pred[i].item())"
   ]
  },
  {
   "cell_type": "code",
   "execution_count": 23,
   "metadata": {},
   "outputs": [],
   "source": [
    "y_pred_desc = []\n",
    "\n",
    "for i in range(len(y_pred)):\n",
    "    y_pred_desc.append(class_names[y_pred[i]])\n",
    "\n",
    "resultat_score = pd.DataFrame(\n",
    "    {'full_path': scoreX,\n",
    "     'y_pred': y_pred,\n",
    "     'y_pred_desc' : y_pred_desc\n",
    "    })\n",
    "\n",
    "resultat_score[\"filename\"] = resultat_score[\"full_path\"].str.split('/').str[-1]"
   ]
  },
  {
   "cell_type": "code",
   "execution_count": null,
   "metadata": {},
   "outputs": [],
   "source": [
    "# RESULTS\n",
    "\n",
    "fig, ax = plt.subplots(3,3, figsize=(20, 20))\n",
    "for i,k in enumerate(np.random.randint(len(resultat_score), size=9)):\n",
    "    im = Image.open(resultat_score[\"full_path\"].iloc[k])\n",
    "    arr = np.array(im)\n",
    "    ax[i//3][i%3].imshow(arr, cmap='gray', vmin=0, vmax=255)\n",
    "    ax[i//3][i%3].set_xlabel(\"Predicted: \"+class_names[resultat_score[\"y_pred\"].iloc[k]]+\"\\n\"+resultat_score[\"filename\"].iloc[k], fontsize=11)"
   ]
  },
  {
   "cell_type": "code",
   "execution_count": 26,
   "metadata": {},
   "outputs": [],
   "source": [
    "full_dataset = full_dataset.merge(resultat_score, how='left', left_on='path_jpg', right_on='full_path')"
   ]
  },
  {
   "cell_type": "code",
   "execution_count": 27,
   "metadata": {},
   "outputs": [],
   "source": [
    "full_dataset[\"ViewPosition\"] = np.where((full_dataset.ViewPosition.isna()), full_dataset.y_pred_desc,full_dataset.ViewPosition)"
   ]
  },
  {
   "cell_type": "code",
   "execution_count": 28,
   "metadata": {},
   "outputs": [],
   "source": [
    "full_dataset = full_dataset.drop(columns=[\"full_path\", \"y_pred\", \"y_pred_desc\", 'filename'])"
   ]
  },
  {
   "cell_type": "code",
   "execution_count": 29,
   "metadata": {},
   "outputs": [],
   "source": [
    "# Cohort save\n",
    "full_dataset.to_csv(path_or_buf=os.path.join(working_directory,'full_covid_dataset_inferenceVP.csv'), index=False, sep='|')"
   ]
  }
 ],
 "metadata": {
  "accelerator": "GPU",
  "colab": {
   "collapsed_sections": [],
   "name": "MedNIST_tutorial.ipynb",
   "provenance": []
  },
  "kernelspec": {
   "display_name": "MONAI Pytorch - Marc 2",
   "language": "python",
   "name": "marc-monai-2"
  },
  "language_info": {
   "codemirror_mode": {
    "name": "ipython",
    "version": 3
   },
   "file_extension": ".py",
   "mimetype": "text/x-python",
   "name": "python",
   "nbconvert_exporter": "python",
   "pygments_lexer": "ipython3",
   "version": "3.8.5"
  }
 },
 "nbformat": 4,
 "nbformat_minor": 4
}
